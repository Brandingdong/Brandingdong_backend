{
 "cells": [
  {
   "cell_type": "code",
   "execution_count": 20,
   "metadata": {
    "scrolled": false
   },
   "outputs": [],
   "source": [
    "import os\n",
    "import json\n",
    "i =120\n",
    "\n",
    "os.environ.setdefault(\"DJANGO_SETTINGS_MODULE\", \"config.settings.develop\")\n",
    "file_path = \"./crawling/\"\n",
    "file_list = os.listdir(file_path)\n",
    "with open(f'./crawling/{file_list[i]}', 'r') as json_file:\n",
    "        data = json.load(json_file)\n",
    "\n",
    "\n"
   ]
  },
  {
   "cell_type": "code",
   "execution_count": 21,
   "metadata": {},
   "outputs": [
    {
     "name": "stdout",
     "output_type": "stream",
     "text": [
      "{'brand_cate': '브랜드', 'category': '스커트', 'sub_category': '미니', 'main_img': ['https://image.brandi.me/cproduct/2020/06/01/16901161_1590953583_image1_L.jpg', 'https://image.brandi.me/cproduct/2020/06/01/16901161_1590953583_image2_L.jpg'], 'brand_img': 'https://image.brandi.me/seller/freakishgirl_profile_1590949625.jpg', 'brand_name': '프리키쉬빌딩', 'intro': '만나서 반가워요', 'title': 'DROC MINISKIRT (BEIGE)', 'discount_rate': 50, 'price': 52000, 'sales_count': 0, 'delivery': '브랜디에서 판매되는 모든 브랜드 상품은 정식제조, 정식수입원을 통해 유통되는 100% 정품임을 보증합니다.', 'info_text': '', 'info_img': ['https://image.brandi.me/cproductdetail/2020/06/01/537bb70222c3659598b3f4bf8feb3ee8.jpg', 'https://image.brandi.me/cproductdetail/2020/06/01/6516fb5e2c367f559940e9ecf9a11632.jpg'], 'company_name': '프리키쉬 타운 (FREAKISH TWON)', 'representative': '김진겸', 'license_num': '208-11-72628', 'mail_order_num': '제2020-서울중구-0240호', 'biz_location': '04563 ) 서울 중구 장충단로13길 20 (을지로6가, 현대시티타워)13층 I-11호', 'business_hour': '주중 10:00 AM ~ 5:00 PM, 주말 및 공휴일 휴무', 'company_email': 'freakishbuilding@gmail.com', 'company_call': '070-8098-5399', 'model_size': '키 : 166cm\\n상의 사이즈 : 55\\n하의 사이즈 : 27\\n발 사이즈 : 230mm\\n카톡문의 : nextweek\\n키 : 168cm\\n상의 사이즈 : 55\\n하의 사이즈 : 27\\n키 : 168cm\\n상의 사이즈 : 55\\n하의 사이즈 : 26\\n발 사이즈 : 235mm\\n키 : 167cm\\n상의 사이즈 : 55\\n하의 사이즈 : 26\\n발 사이즈 : 235mm\\n', 'shipping_info': '', 'exchange_refund_info': ''}\n"
     ]
    }
   ],
   "source": [
    "if data['company_name']:\n",
    "    print(data)\n",
    "else:\n",
    "    print(False)\n",
    "# except:\n",
    "#     data['model_size'] = 'a'\n",
    "#     print(data['model_size'])"
   ]
  }
 ],
 "metadata": {
  "kernelspec": {
   "display_name": "Python 3",
   "language": "python",
   "name": "python3"
  },
  "language_info": {
   "codemirror_mode": {
    "name": "ipython",
    "version": 3
   },
   "file_extension": ".py",
   "mimetype": "text/x-python",
   "name": "python",
   "nbconvert_exporter": "python",
   "pygments_lexer": "ipython3",
   "version": "3.8.2"
  }
 },
 "nbformat": 4,
 "nbformat_minor": 4
}
