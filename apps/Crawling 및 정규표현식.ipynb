{
 "cells": [
  {
   "cell_type": "code",
   "execution_count": 62,
   "metadata": {},
   "outputs": [
    {
     "name": "stdout",
     "output_type": "stream",
     "text": [
      "[]\n"
     ]
    }
   ],
   "source": [
    "# import re\n",
    "# a = 'src=\"https://image.brandi.me/cproduct/2020/05/29/16841528_1590732351_image1_L.jpg\"'\n",
    "# regex = re.findall(r'src=\\w*(\\d*)\\w?[.]jpg',a)\n",
    "# print(regex)"
   ]
  },
  {
   "cell_type": "code",
   "execution_count": 78,
   "metadata": {},
   "outputs": [
    {
     "name": "stdout",
     "output_type": "stream",
     "text": [
      "73\n"
     ]
    }
   ],
   "source": [
    "# a= 'src=https://image.brandi.me/cproduct/2020/05/29/16841528_1590732351_image1_L.jpg'\n",
    "# regex = re.search(r'(.).{2}[.]jpg',a)\n",
    "# print(regex.start())"
   ]
  },
  {
   "cell_type": "code",
   "execution_count": 6,
   "metadata": {},
   "outputs": [],
   "source": [
    "# regex = sorted(img_only, key=lambda img_only: img_only[1])"
   ]
  },
  {
   "cell_type": "code",
   "execution_count": 98,
   "metadata": {},
   "outputs": [
    {
     "name": "stdout",
     "output_type": "stream",
     "text": [
      "['src=img1as.jpg asdfsf', 'src=img2as.jpg asdf', 'src=img3as.jpg asdff']\n"
     ]
    }
   ],
   "source": [
    "# b = ['src=img3as.jpg asdff','src=img2as.jpg asdf','src=img1as.jpg asdfsf']\n",
    "# # so = sorted(b, key=lambda b:b[re.findall(r'(.).{2}[.]jpg')])\n",
    "# s = sorted(b, key=lambda b:b[re.search(r'(.).{2}[.]jpg',b).start()])\n",
    "# print(s)\n",
    "# # for n in b:\n",
    "# #     re.search\n",
    "# # key=re.findall(r'(.).{2}[.]jpg'"
   ]
  },
  {
   "cell_type": "code",
   "execution_count": 83,
   "metadata": {},
   "outputs": [
    {
     "name": "stdout",
     "output_type": "stream",
     "text": [
      "['src=img3.jpg asdf', 'src=img2.jpg asdfasf', 'src=img1.jpg asdf']\n"
     ]
    }
   ],
   "source": [
    "# print(so)"
   ]
  },
  {
   "cell_type": "code",
   "execution_count": 89,
   "metadata": {},
   "outputs": [
    {
     "name": "stdout",
     "output_type": "stream",
     "text": [
      "['a1', 'b2', 'c3']\n"
     ]
    }
   ],
   "source": [
    "# c= ['c3','b2','a1']\n",
    "# print(sorted(c, key=lambda c:c[1]))"
   ]
  },
  {
   "cell_type": "code",
   "execution_count": 108,
   "metadata": {
    "scrolled": false
   },
   "outputs": [
    {
     "name": "stdout",
     "output_type": "stream",
     "text": [
      "['<img data-v-e6eb87de=\"\" src=\"https://image.brandi.me/cproduct/2020/05/29/16841528_1590732351_image1_L.jpg\" style=\"width: 100%; position: absolute;\"/>', '<img data-v-e6eb87de=\"\" src=\"https://image.brandi.me/cproduct/2020/05/29/16841528_1590732352_image2_L.jpg\" style=\"width: 100%; position: absolute;\"/>', '<img data-v-e6eb87de=\"\" src=\"https://image.brandi.me/cproduct/2020/05/29/16841528_1590732353_image3_L.jpg\" style=\"width: 100%; position: absolute;\"/>', '<img data-v-e6eb87de=\"\" src=\"https://image.brandi.me/cproduct/2020/05/29/16841528_1590732356_image4_L.jpg\" style=\"width: 100%; position: absolute;\"/>', '<img data-v-e6eb87de=\"\" src=\"https://image.brandi.me/cproduct/2020/05/29/16841528_1590732356_image5_L.jpg\" style=\"width: 100%; position: absolute;\"/>']\n"
     ]
    }
   ],
   "source": [
    "# b = img_only\n",
    "# d = list(map(str,b))\n",
    "# regex = sorted(d, key=lambda d:d[re.search(r'(.).{2}[.]jpg',d).start()])\n",
    "# print(regex)\n",
    "\n",
    "# # s = sorted(b, key=lambda b:b[re.search(r'(.).{2}[.]jpg',b).start()])\n",
    "# # print(s)           "
   ]
  },
  {
   "cell_type": "markdown",
   "metadata": {},
   "source": [
    "# 쇼핑몰 마켓 접근"
   ]
  },
  {
   "cell_type": "code",
   "execution_count": 53,
   "metadata": {
    "scrolled": true
   },
   "outputs": [],
   "source": [
    "from selenium import webdriver\n",
    "from bs4 import BeautifulSoup\n",
    "import re\n",
    "driver = webdriver.Chrome('./chromedriver')\n",
    "driver.implicitly_wait(5)\n",
    "driver.get('https://www.brandi.co.kr/trend')\n",
    "html = driver.page_source\n",
    "soup = BeautifulSoup(html, 'html.parser')"
   ]
  },
  {
   "cell_type": "markdown",
   "metadata": {},
   "source": [
    "# 크롤링 공통"
   ]
  },
  {
   "cell_type": "code",
   "execution_count": 54,
   "metadata": {
    "scrolled": true
   },
   "outputs": [
    {
     "ename": "IndexError",
     "evalue": "list index out of range",
     "output_type": "error",
     "traceback": [
      "\u001b[0;31m---------------------------------------------------------------------------\u001b[0m",
      "\u001b[0;31mIndexError\u001b[0m                                Traceback (most recent call last)",
      "\u001b[0;32m<ipython-input-54-d14cf8786673>\u001b[0m in \u001b[0;36m<module>\u001b[0;34m\u001b[0m\n\u001b[1;32m     14\u001b[0m         \u001b[0msoup\u001b[0m \u001b[0;34m=\u001b[0m \u001b[0mBeautifulSoup\u001b[0m\u001b[0;34m(\u001b[0m\u001b[0mhtml\u001b[0m\u001b[0;34m,\u001b[0m \u001b[0;34m'html.parser'\u001b[0m\u001b[0;34m)\u001b[0m\u001b[0;34m\u001b[0m\u001b[0;34m\u001b[0m\u001b[0m\n\u001b[1;32m     15\u001b[0m         \u001b[0;32mfor\u001b[0m \u001b[0mk\u001b[0m \u001b[0;32min\u001b[0m \u001b[0mrange\u001b[0m\u001b[0;34m(\u001b[0m\u001b[0;36m20\u001b[0m\u001b[0;34m)\u001b[0m\u001b[0;34m:\u001b[0m\u001b[0;34m\u001b[0m\u001b[0;34m\u001b[0m\u001b[0m\n\u001b[0;32m---> 16\u001b[0;31m             \u001b[0mp_link\u001b[0m \u001b[0;34m=\u001b[0m \u001b[0;34m'https://www.brandi.co.kr'\u001b[0m \u001b[0;34m+\u001b[0m \u001b[0msoup\u001b[0m\u001b[0;34m.\u001b[0m\u001b[0mselect\u001b[0m\u001b[0;34m(\u001b[0m\u001b[0;34m'a[data-v-6fea5b78]'\u001b[0m\u001b[0;34m)\u001b[0m\u001b[0;34m[\u001b[0m\u001b[0mk\u001b[0m\u001b[0;34m]\u001b[0m\u001b[0;34m.\u001b[0m\u001b[0mclick\u001b[0m\u001b[0;34m(\u001b[0m\u001b[0;34m)\u001b[0m\u001b[0;34m\u001b[0m\u001b[0;34m\u001b[0m\u001b[0m\n\u001b[0m\u001b[1;32m     17\u001b[0m \u001b[0;34m\u001b[0m\u001b[0m\n\u001b[1;32m     18\u001b[0m         \u001b[0mprint\u001b[0m\u001b[0;34m(\u001b[0m\u001b[0mp\u001b[0m\u001b[0;34m)\u001b[0m\u001b[0;34m\u001b[0m\u001b[0;34m\u001b[0m\u001b[0m\n",
      "\u001b[0;31mIndexError\u001b[0m: list index out of range"
     ]
    }
   ],
   "source": [
    "import sys\n",
    "li = soup.select('#category_trend li[data-v-f4bbec10]')\n",
    "data = {}\n",
    "count = 0\n",
    "for i in li:\n",
    "    cate = i.select('a')\n",
    "    main_cate = cate[0].get_text()\n",
    "    #메인카테고리\n",
    "    data['category'] = main_cate\n",
    "    for j in range(1,len(cate)):\n",
    "        #서브카테고리\n",
    "        data['sub_category'] = cate[j].get_text()\n",
    "        link = ('https://www.brandi.co.kr' + cate[j].get('href'))\n",
    "        driver.get(link)\n",
    "        html = driver.page_source\n",
    "        soup = BeautifulSoup(html, 'html.parser')\n",
    "        for k in range(20):\n",
    "            p_link = 'https://www.brandi.co.kr' + soup.select('a[data-v-6fea5b78]')[k].get('href')\n",
    "            driver.get(p_link)\n",
    "            html = driver.page_source\n",
    "            soup = BeautifulSoup(html, 'html.parser')\n",
    "            #메인 이미지 +++++++++++++++이미지 리사이징 필요\n",
    "            img = list(set(soup.select('img[data-v-e6eb87de]')))\n",
    "            data['main_img'] = [n['src'] for n in img]\n",
    "            #브랜드 이름\n",
    "            data['brandname'] = soup.select('a[data-v-c8060bfa]')[1].get_text()\n",
    "            #제품 이름\n",
    "            data['name'] = soup.select_one('.detail_title').get_text()\n",
    "            #제품 가격\n",
    "            try:\n",
    "                data = soup.select_one('.detail_price span').get_text()\n",
    "            except:\n",
    "                data = soup.select_one('.detail_price').get_text()\n",
    "            data['price'] = int(re.findall(r'\\d*[,]\\d*',data)[0].replace(',',''))\n",
    "            #배송정보\n",
    "            data['delivery'] = soup.select_one('.detail_info_wrapper > span').get_text()[5:]\n",
    "            #할인율\n",
    "            try:\n",
    "                data = soup.select_one('.detail_price b').get_text()\n",
    "                data['discount_rate'] = int(re.findall(r'\\d*',data)[0].replace('%',''))/100\n",
    "            except:\n",
    "                data['discount_rate'] = 0\n",
    "                \n",
    "            #product_detail\n",
    "            detail_text = [i for i in soup.select_one('#info_container_1').get_text().splitlines() if i]\n",
    "            for i in detail_text:\n",
    "                if i == '\\xa0' or i == '\\u200b':\n",
    "                    i = ' '\n",
    "                data['detail'] = textdic.get('comment','') + i\n",
    "            \n",
    "            #product_detail_img\n",
    "            img = soup.select('#info_container_1 img')\n",
    "            data['info_img'] = [n['src'] for n in img]\n",
    "\n",
    "\n",
    "            print(data)\n",
    "            sys.exit(1)\n",
    "\n",
    "\n",
    "        "
   ]
  },
  {
   "cell_type": "code",
   "execution_count": 56,
   "metadata": {},
   "outputs": [
    {
     "name": "stdout",
     "output_type": "stream",
     "text": [
      "https://www.brandi.co.kr/products/17082238\n"
     ]
    },
    {
     "ename": "AttributeError",
     "evalue": "'str' object has no attribute 'get'",
     "output_type": "error",
     "traceback": [
      "\u001b[0;31m---------------------------------------------------------------------------\u001b[0m",
      "\u001b[0;31mAttributeError\u001b[0m                            Traceback (most recent call last)",
      "\u001b[0;32m<ipython-input-56-2be34db5642e>\u001b[0m in \u001b[0;36m<module>\u001b[0;34m\u001b[0m\n\u001b[1;32m      4\u001b[0m \u001b[0mprint\u001b[0m\u001b[0;34m(\u001b[0m\u001b[0mp_link\u001b[0m\u001b[0;34m)\u001b[0m\u001b[0;34m\u001b[0m\u001b[0;34m\u001b[0m\u001b[0m\n\u001b[1;32m      5\u001b[0m \u001b[0mdriver\u001b[0m\u001b[0;34m.\u001b[0m\u001b[0mget\u001b[0m\u001b[0;34m(\u001b[0m\u001b[0mp_link\u001b[0m\u001b[0;34m)\u001b[0m\u001b[0;34m\u001b[0m\u001b[0;34m\u001b[0m\u001b[0m\n\u001b[0;32m----> 6\u001b[0;31m \u001b[0mprint\u001b[0m\u001b[0;34m(\u001b[0m\u001b[0mp_link\u001b[0m\u001b[0;34m.\u001b[0m\u001b[0mget\u001b[0m\u001b[0;34m(\u001b[0m\u001b[0;34m'href'\u001b[0m\u001b[0;34m)\u001b[0m\u001b[0;34m)\u001b[0m\u001b[0;34m\u001b[0m\u001b[0;34m\u001b[0m\u001b[0m\n\u001b[0m",
      "\u001b[0;31mAttributeError\u001b[0m: 'str' object has no attribute 'get'"
     ]
    }
   ],
   "source": [
    "html = driver.page_source\n",
    "soup = BeautifulSoup(html, 'html.parser')\n",
    "p_link = 'https://www.brandi.co.kr' + soup.select('a[data-v-6fea5b78]')[0].get('href')\n",
    "driver.get(p_link)\n",
    "print(p_link.get('href'))\n"
   ]
  },
  {
   "cell_type": "markdown",
   "metadata": {},
   "source": [
    "# 크롤링 파편"
   ]
  },
  {
   "cell_type": "code",
   "execution_count": 75,
   "metadata": {},
   "outputs": [],
   "source": [
    "from selenium import webdriver\n",
    "from bs4 import BeautifulSoup\n",
    "import re\n",
    "driver = webdriver.Chrome('./chromedriver')\n",
    "driver.implicitly_wait(3)\n",
    "driver.get('https://www.brandi.co.kr/products/17880976')\n",
    "html = driver.page_source\n",
    "soup = BeautifulSoup(html, 'html.parser')"
   ]
  },
  {
   "cell_type": "code",
   "execution_count": 60,
   "metadata": {},
   "outputs": [
    {
     "name": "stdout",
     "output_type": "stream",
     "text": [
      "https://image.brandi.me/cproduct/2020/06/04/17082238_1591255536_image1_L.jpg\n",
      "https://image.brandi.me/cproduct/2020/06/04/17082238_1591255434_image5_L.jpg\n",
      "https://image.brandi.me/cproduct/2020/06/04/17082238_1591255432_image4_L.jpg\n",
      "https://image.brandi.me/cproduct/2020/06/04/17082238_1591255429_image2_L.jpg\n",
      "https://image.brandi.me/cproduct/2020/06/04/17082238_1591255431_image3_L.jpg\n",
      "['https://image.brandi.me/cproduct/2020/06/04/17082238_1591255536_image1_L.jpg', 'https://image.brandi.me/cproduct/2020/06/04/17082238_1591255434_image5_L.jpg', 'https://image.brandi.me/cproduct/2020/06/04/17082238_1591255432_image4_L.jpg', 'https://image.brandi.me/cproduct/2020/06/04/17082238_1591255429_image2_L.jpg', 'https://image.brandi.me/cproduct/2020/06/04/17082238_1591255431_image3_L.jpg']\n"
     ]
    }
   ],
   "source": [
    "img = list(set(soup.select('img[data-v-e6eb87de]')))\n",
    "for n in img:\n",
    "    print (n['src'])\n",
    "    \n",
    "print([n['src'] for n in img])"
   ]
  },
  {
   "cell_type": "code",
   "execution_count": 61,
   "metadata": {},
   "outputs": [
    {
     "name": "stdout",
     "output_type": "stream",
     "text": [
      "무드글램\n"
     ]
    }
   ],
   "source": [
    "brandname = soup.select('a[data-v-c8060bfa]')[1].get_text()\n",
    "print(brandname)"
   ]
  },
  {
   "cell_type": "code",
   "execution_count": 62,
   "metadata": {},
   "outputs": [
    {
     "name": "stdout",
     "output_type": "stream",
     "text": [
      "vivi 반팔자켓 린넨자켓 2col_무드글램\n"
     ]
    }
   ],
   "source": [
    "title = soup.select_one('.detail_title').get_text()\n",
    "print(title)"
   ]
  },
  {
   "cell_type": "code",
   "execution_count": 63,
   "metadata": {},
   "outputs": [
    {
     "name": "stdout",
     "output_type": "stream",
     "text": [
      "0\n"
     ]
    }
   ],
   "source": [
    "try:\n",
    "    data = soup.select_one('.detail_price b').get_text()\n",
    "    discountRate = int(re.findall(r'\\d*',data)[0].replace('%',''))\n",
    "except:\n",
    "    discountRate = 0\n",
    "\n",
    "print(discountRate)"
   ]
  },
  {
   "cell_type": "code",
   "execution_count": 64,
   "metadata": {},
   "outputs": [
    {
     "name": "stdout",
     "output_type": "stream",
     "text": [
      "18700\n"
     ]
    }
   ],
   "source": [
    "try:\n",
    "    data = soup.select_one('.detail_price span').get_text()\n",
    "except:\n",
    "    data = soup.select_one('.detail_price').get_text()\n",
    "actualPrice = int(re.findall(r'\\d*[,]\\d*',data)[0].replace(',',''))\n",
    "print(actualPrice)"
   ]
  },
  {
   "cell_type": "code",
   "execution_count": 79,
   "metadata": {},
   "outputs": [
    {
     "name": "stdout",
     "output_type": "stream",
     "text": [
      "259\n"
     ]
    }
   ],
   "source": [
    "data = soup.select_one('.detail_purchase_count').get_text()\n",
    "try:\n",
    "    Purchase_count = int(re.findall(r'\\d*[,]\\d*',data)[0].replace(',',''))\n",
    "except:\n",
    "    Purchase_count = int(re.findall(r'\\d*',data)[0])\n",
    "print(Purchase_count)"
   ]
  },
  {
   "cell_type": "code",
   "execution_count": 65,
   "metadata": {},
   "outputs": [
    {
     "name": "stdout",
     "output_type": "stream",
     "text": [
      "브랜디 배송\n"
     ]
    }
   ],
   "source": [
    "delivery = soup.select_one('.detail_info_wrapper > span').get_text()[5:]\n",
    "print(delivery)"
   ]
  },
  {
   "cell_type": "code",
   "execution_count": 66,
   "metadata": {},
   "outputs": [
    {
     "name": "stdout",
     "output_type": "stream",
     "text": [
      "\n",
      "소라\n",
      "베이지\n"
     ]
    }
   ],
   "source": [
    "option = soup.select('.detail_options option')\n",
    "for i in option:\n",
    "    print(i['value'])"
   ]
  },
  {
   "cell_type": "code",
   "execution_count": 67,
   "metadata": {},
   "outputs": [
    {
     "name": "stdout",
     "output_type": "stream",
     "text": [
      "https://image.brandi.me/cproductdetail/2020/06/04/c78fc5a6cfd86b8096adaa2d64a9557f.jpeg\n",
      "https://image.brandi.me/cproductdetail/2020/06/04/7670fb5591e45c8c706335e5b1af2420.jpeg\n",
      "https://image.brandi.me/cproductdetail/2020/06/04/dc1b3efb92ec882769087a1710aaa394.jpeg\n",
      "https://image.brandi.me/cproductdetail/2020/06/04/cbe5ba492d2d7f252efa5f5a2826431d.jpeg\n",
      "https://image.brandi.me/cproductdetail/2020/06/04/0b68b48ee120a61a141f94c3ab63c4cd.jpeg\n",
      "https://image.brandi.me/cproductdetail/2020/06/04/0db351502956d49b8ac54a77771d3d80.jpeg\n",
      "https://image.brandi.me/cproductdetail/2020/06/04/cc5339057867fdabc07110e3405eda1e.jpeg\n",
      "https://image.brandi.me/cproductdetail/2020/06/04/e903fcac48e293950095495378121a68.jpeg\n",
      "https://image.brandi.me/cproductdetail/2020/06/04/59680e3edf70fb0a8e6f8c1a9cd567ff.jpeg\n",
      "https://image.brandi.me/cproductdetail/2020/06/04/36219f03bf8777fdfad9af0fb4de89a8.jpeg\n",
      "https://image.brandi.me/cproductdetail/2020/06/04/3c78e5b53d4d643cd6f77b32ef1e5304.jpeg\n",
      "https://image.brandi.me/cproductdetail/2020/06/04/2057c0fe5cc1d60458063c37d4569b0c.jpeg\n",
      "https://image.brandi.me/cproductdetail/2020/06/04/1869ad119b2f4dad12fc28cda2c5834d.jpeg\n",
      "https://image.brandi.me/cproductdetail/2020/06/04/02b2504f56774c01e89cbc80f6e23631.jpeg\n",
      "https://image.brandi.me/cproductdetail/2020/06/04/d8cd31383a2b22c160db82a7f17251b3.jpeg\n",
      "https://image.brandi.me/cproductdetail/2020/06/04/5e7d1d2444015c5fea54af6db6f94b4e.jpeg\n",
      "https://image.brandi.me/cproductdetail/2020/06/04/290150637db3f4cff661766e2d3ecad6.jpeg\n",
      "https://image.brandi.me/cproductdetail/2020/06/04/b6019afb105810ed65896a37d4805953.jpeg\n",
      "https://image.brandi.me/cproductdetail/2020/06/04/bf6c44b955ac503a921ad505b94acbe0.jpeg\n",
      "https://image.brandi.me/cproductdetail/2020/06/04/ab2e2d2751529c048fc356e3fb41f339.jpeg\n",
      "https://image.brandi.me/cproductdetail/2020/06/04/122cf9cb3decb9c7a407bc3106ed2c5b.jpeg\n",
      "https://image.brandi.me/cproductdetail/2020/06/04/badd553881658c3d4fcdd4dc1d5dd84a.jpeg\n",
      "https://image.brandi.me/cproductdetail/2020/06/04/14d3c5e74707813b674a0e105930ccd3.jpeg\n",
      "https://image.brandi.me/cproductdetail/2020/06/04/6de4ef84bac9d60c266d99f2b360e11e.jpeg\n",
      "https://image.brandi.me/cproductdetail/2020/06/04/4a552e862382786a51838e260a019ba6.jpeg\n",
      "https://image.brandi.me/cproductdetail/2020/06/04/11d1291a796ba593064a9704b1549acd.jpeg\n",
      "https://image.brandi.me/cproductdetail/2020/06/04/f3cd8391cdb05f07dfdf319ed53514d5.jpeg\n",
      "https://image.brandi.me/cproductdetail/2020/06/04/46e6cbfa0c16c2fe30118c28d213872a.jpeg\n",
      "https://image.brandi.me/cproductdetail/2020/06/04/a2d164980ab820a10c469bd153d1975b.jpeg\n",
      "https://image.brandi.me/cproductdetail/2020/06/04/0bf564c61b02976aab6174b1b08870e1.jpeg\n",
      "https://image.brandi.me/cproductdetail/2020/06/04/f9f4c92295ae09a2158b384e6ac83742.jpeg\n",
      "https://image.brandi.me/cproductdetail/2020/06/04/8ebceac218eddd8075da3c0001aaaf5b.jpeg\n",
      "https://image.brandi.me/cproductdetail/2020/06/04/a5af8ad825e4f4caa1841cd5b2be5e0b.jpeg\n",
      "https://image.brandi.me/cproductdetail/2020/06/04/eeee7a4e05d98cc3ecae058f416141b1.jpeg\n",
      "https://image.brandi.me/cproductdetail/2020/06/04/c6abf3a9704359c799126d933fdbcf54.jpeg\n",
      "https://image.brandi.me/cproductdetail/2020/06/04/7c92bc51e3bb4d3b878cf2d4b7ab9ceb.jpeg\n",
      "https://image.brandi.me/cproductdetail/2020/06/04/b5379e9d16b72537cfd58e45bd2bad9e.jpeg\n",
      "https://image.brandi.me/cproductdetail/2020/06/04/17db59c5fb1cf6114212dc1eec9acdf4.jpeg\n",
      "https://image.brandi.me/cproductdetail/2020/06/04/71e3ef71da2f589236a14ebbbd684d8f.jpeg\n",
      "https://image.brandi.me/cproductdetail/2020/06/04/34382c48ee9fe8cd89d5891948bc9da7.jpeg\n",
      "https://image.brandi.me/cproductdetail/2020/06/04/46acbcfe32632b658a580111e44ad92f.jpeg\n",
      "https://image.brandi.me/cproductdetail/2020/06/04/4a1ac9cb9fc675427d9a9f3384f954e3.jpeg\n",
      "https://image.brandi.me/cproductdetail/2020/06/04/06a5caf4d74ae2c54f7e41c70e35df06.jpeg\n",
      "https://image.brandi.me/cproductdetail/2020/06/04/8e1391227b2f3a270fc493be63f0ad75.jpeg\n",
      "https://image.brandi.me/category/image/img_product_jacket.jpg\n"
     ]
    }
   ],
   "source": [
    "info_img = soup.select('#info_container_1 img')\n",
    "for i in info_img:\n",
    "    print(i['src'])"
   ]
  },
  {
   "cell_type": "code",
   "execution_count": 136,
   "metadata": {
    "scrolled": false
   },
   "outputs": [
    {
     "name": "stdout",
     "output_type": "stream",
     "text": [
      "{'comment': '  comment,  소매 롤업 디테일로 캐주얼한 포인트를 준티셔츠 아이템을 소개 해드려요:) 베이직한 듯 어깨를 자연스럽게 덮어주는반팔 소매 디자인에 고정된 롤업포인트로 밋밋한 기본 티셔츠들과의확실히 차별화된 디테일을 살려주었어요~ 제일 기본템 컬러들로 구성해가볍게 데일리하게 코디하기에도 부담없구요,기본 데님팬츠는 물론 숏팬츠린넨팬츠 와 함께 매칭해도 너무 이쁘답니다. 베이직한 기본아이템으로멋스럽게 연출하시기 좋아추천해드려요~ ෆ     , color블랙, 화이트, 다크그레이 , sizeFREE(44-66) 총장57 어깨40 가슴44 암홀20 소매14 소매밑단17 밑단47 , model162cm / 44반size / 25size (S사이즈)  , fabric면, 모달신축성 : 좋음 / 비침 : 약간세탁법 - 드라이크리닝 *상세 이미지로 사이즈와 소재감을 확인해 주세요.괄호안은 추천사이즈 입니다. 체형에 따라 상이할수 있습니다.  상품이 마음에 드신다면 꼭 찜 부탁드려용    , 화이트              , 다크그레이        , detail view         PRODUCT INFO(단면/CM)사이즈총장목어깨가슴소매길이소매암홀밑단free570404414172047신축성좋음보통없음비침없음약간있음촉감부드러움보통까실함핏감타이트정사이즈루즈두께감도톰보통얇음'}\n"
     ]
    }
   ],
   "source": [
    "textdic = {}\n",
    "info_text = [i for i in soup.select_one('#info_container_1').get_text().splitlines() if i]\n",
    "for i in info_text:\n",
    "    if i == '\\xa0' or i == '\\u200b':\n",
    "        i = ' '\n",
    "    textdic['comment'] = textdic.get('comment','') + i\n",
    "print(textdic)"
   ]
  },
  {
   "cell_type": "code",
   "execution_count": null,
   "metadata": {},
   "outputs": [],
   "source": []
  }
 ],
 "metadata": {
  "kernelspec": {
   "display_name": "Python 3",
   "language": "python",
   "name": "python3"
  },
  "language_info": {
   "codemirror_mode": {
    "name": "ipython",
    "version": 3
   },
   "file_extension": ".py",
   "mimetype": "text/x-python",
   "name": "python",
   "nbconvert_exporter": "python",
   "pygments_lexer": "ipython3",
   "version": "3.8.2"
  }
 },
 "nbformat": 4,
 "nbformat_minor": 2
}
