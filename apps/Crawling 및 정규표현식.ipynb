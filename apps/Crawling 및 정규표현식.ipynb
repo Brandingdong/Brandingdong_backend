{
 "cells": [
  {
   "cell_type": "markdown",
   "metadata": {},
   "source": [
    "# 쇼핑몰 마켓 접근"
   ]
  },
  {
   "cell_type": "code",
   "execution_count": 1,
   "metadata": {
    "scrolled": true
   },
   "outputs": [],
   "source": [
    "from selenium import webdriver\n",
    "from bs4 import BeautifulSoup\n",
    "import re\n",
    "import sys\n",
    "import time\n",
    "driver = webdriver.Chrome('./chromedriver')\n",
    "driver.set_window_size(600,800)\n",
    "driver.implicitly_wait(3)\n",
    "driver.get('https://www.brandi.co.kr/categories/493')"
   ]
  },
  {
   "cell_type": "code",
   "execution_count": 1,
   "metadata": {},
   "outputs": [
    {
     "name": "stdout",
     "output_type": "stream",
     "text": [
      "['쇼핑몰 · 마켓-바지-트레이닝_조거-[편하고,감성적인!] 루즈 와이드 체크 롱팬츠 2color_럽앤썸.json', '쇼핑몰 · 마켓-바지-슬랙스-[1+1] 세상편한슬랙스 (누적판매30만장&재구매율1위♥).json', '쇼핑몰 · 마켓-상의-베스트-레트로니트조끼.json', '쇼핑몰 · 마켓-아우터-코트-[MADE] 프라하 더블트렌치코트.json', '쇼핑몰 · 마켓-바지-트레이닝_조거-[벨트까지SET_3Col]힙해 카고 포켓 조거 밴딩 트레이닝팬츠_복플레이스.json', '쇼핑몰 · 마켓-바지-청바지-[단독가][스판대박_25-30] 정말 예쁜 일자핏 3컬러 팬츠_유어아운스퀘어.json', '쇼핑몰 · 마켓-아우터-가디건-[BY. ROUD] 베티 - jk (2color).json', '쇼핑몰 · 마켓-상의-셔츠_블라우스-라운드 코튼 블라우스(가을ver.).json', '쇼핑몰 · 마켓-상의-니트-원트 캐시미어 브이넥 니트 (10color)_더모닌.json', '쇼핑몰 · 마켓-상의-베스트-[남녀공용_커플룩]무지컬러브이넥니트조끼(11color).json', '쇼핑몰 · 마켓-아우터-기타-키키 버튼 베스트.json', '쇼핑몰 · 마켓-아우터-패딩-[한정수량]카라 탈부착 스트링 누빔 패딩(2color)미시룩 데일리룩.json', '쇼핑몰 · 마켓-바지-레깅스-(7가지사이즈) 커플시밀러룩 스판 카고 밴딩조거팬츠_메이블.json', '쇼핑몰 · 마켓-상의-셔츠_블라우스-(11color)브론 가을 카라 루즈핏 간절기 데일리 코튼 셔츠_프렌치오브.json', '쇼핑몰 · 마켓-바지-슬랙스-크레이지 올스판 하이슬랙스PT(3color)_밤낮.json', '쇼핑몰 · 마켓-바지-트레이닝_조거-[세트♥_3color] 후드집업 크롭 트레이닝+조커팬츠 추리닝 set_체리체리.json', '쇼핑몰 · 마켓-아우터-기타-아노락크롭후드.json', '쇼핑몰 · 마켓-아우터-점퍼-(무료배송)럭키 썸머 바람막이 윈드 점퍼.json', '쇼핑몰 · 마켓-바지-반바지-[마실룩] 이렇게 편해도돼? 트레이닝 반바지 2color_럽앤썸.json', '쇼핑몰 · 마켓-아우터-코트-로에 핸드메이드 울 캐시미어 트렌치 롱 코트(오트밀,브라운).json', '쇼핑몰 · 마켓-상의-티셔츠-(국내 여리끝판왕) 루즈 스트링 니트 티셔츠_바이영.json', '쇼핑몰 · 마켓-상의-셔츠_블라우스-[예쁨가득]주름 캉캉 블라우스(3color)_니드어린.json', '쇼핑몰 · 마켓-아우터-자켓-[고민말고GO!] 심플한 원버튼 자켓 3color_럽앤썸.json', '쇼핑몰 · 마켓-바지-면바지-가을버전!언더 와이드 밴딩팬츠[ 3color ]_어썸.json', '쇼핑몰 · 마켓-바지-면바지-주문폭주:-) 하이웨스트 와이드핏 면팬츠 2color.json', '쇼핑몰 · 마켓-바지-면바지-코튼카고와이드밴딩팬츠.json', '쇼핑몰 · 마켓-바지-슬랙스-(촉감b)찰랑찰랑 와이드 슬렉스 (3 color) _로그인.json', '쇼핑몰 · 마켓-상의-티셔츠-[단독가] 썸머 루즈핏 슬라브 긴팔티 5color_럽앤썸.json', '쇼핑몰 · 마켓-상의-셔츠_블라우스-라비 셔링 블라우스 (2colo)_더모닌.json', '쇼핑몰 · 마켓-아우터-자켓-추천!리브 루즈핏 자켓 [ 3color ]_어썸.json', '쇼핑몰 · 마켓-바지-청바지-(6col)후회없을 하이웨스트 일자팬츠_인더모어.json', '쇼핑몰 · 마켓-바지-반바지-허벅지 슬림 하이웨스트 코튼 밴딩 팬츠 반바지 (3color)_미우블랑.json', '쇼핑몰 · 마켓-바지-청바지-흰티에 청바지! 생지 일자팬츠 (2color)_ 알콜.json', '쇼핑몰 · 마켓-바지-청바지-레이트 흑청 일자 청바지.json', '쇼핑몰 · 마켓-상의-티셔츠-[누적3만장♥] 찰랑 촉감 라운드티.json', '쇼핑몰 · 마켓-바지-면바지-일자핏! 이프 와이드 코튼 롱 팬츠 (4color)_세러데이무드.json', '쇼핑몰 · 마켓-바지-청바지-[ 뱃살몸매보정 ] 내몸에 착붙는 하이웨스트 컷팅 일자스키니 _ 부기샵.json', '쇼핑몰 · 마켓-바지-트레이닝_조거-[키작녀추천+트레이닝맛집] 젤로나시크롭후드트레이닝바지세트 3color.json', '쇼핑몰 · 마켓-아우터-가디건-퍼프 꽈배기 크롭 가디건_해쁘.json', '쇼핑몰 · 마켓-아우터-자켓-♥자체제작고퀄리티♥모던베이직JK(4c).json', '쇼핑몰 · 마켓-원피스-미니-[단독가] [체형커버] 일자핏 무지 미니 원피스_코튼로그.json', '쇼핑몰 · 마켓-원피스-미니-[가을신상] 레오파드 호피 랩원피스 (2color)_몽그라미.json', '쇼핑몰 · 마켓-바지-면바지-[S~XXL_가을까지!]난스판 데일리 하이웨스트 일자핏 면팬츠_복플레이스.json', '쇼핑몰 · 마켓-바지-트레이닝_조거-[아담_롱_1+1할인] 2가지타입 쿨내진동 아담_롱 골지 통 팬츠.json', '쇼핑몰 · 마켓-바지-면바지-[반하이_몸매보정] 코튼 컷팅 부츠컷 팬츠 (2color)_321g.json', '쇼핑몰 · 마켓-상의-셔츠_블라우스-[가을준비] 핀턱 카라 블라우스(3color)_니드어린.json', '쇼핑몰 · 마켓-바지-트레이닝_조거-스티치 면 조거 팬츠.json', '쇼핑몰 · 마켓-바지-트레이닝_조거-[신상세일당일]남여공용 카고 조거 빅사이즈까지 데일리로 굿 스판 아노락 카고 조거 밴딩 팬츠.json', '쇼핑몰 · 마켓-아우터-코트-바이미 더블 트렌치 코트.json', '쇼핑몰 · 마켓-상의-니트-세미 크롭 브이넥 골지니트[ 5color ]_어썸.json', '쇼핑몰 · 마켓-아우터-가디건-[주문폭주] 모먼트 브이넥 가디건.json', '쇼핑몰 · 마켓-아우터-자켓-vivi 반팔자켓 린넨자켓 2col_무드글램.json', '쇼핑몰 · 마켓-아우터-가디건-[부들부들_고급스러움] 라운드 무지 심플 펀칭 레이스 숏 니트 가디건 _아이메리.json', '쇼핑몰 · 마켓-아우터-점퍼-[최저가!!!] 데일리 미니 크롭 후드집업 점퍼.json', '쇼핑몰 · 마켓-바지-트레이닝_조거-[당일발송!_3COLOR]스트릿 보이핏 조거밴딩 카고바지.json', '쇼핑몰 · 마켓-상의-후드_맨투맨-크롭 플루트 맨투맨.json', '쇼핑몰 · 마켓-바지-청바지-<요즘유행!!두껍지X> 생지 데님 데일리 아메카지 와이드 하이웨스트 핀턱 팬츠 _유어아운스퀘어.json', '쇼핑몰 · 마켓-아우터-무스탕_퍼-진주cd.json', '쇼핑몰 · 마켓-아우터-자켓-Vertical, 노카라 트위드 자켓 (2color).json', '쇼핑몰 · 마켓-상의-베스트-[4COLOR] 세미크롭 브이넥 베스트 니트조끼_데일리히어.json', '쇼핑몰 · 마켓-상의-셔츠_블라우스-(4color)로스트 가을 카라 포켓 루즈핏 언발 셔츠_프렌치오브.json', '쇼핑몰 · 마켓-상의-셔츠_블라우스-(7col,남녀공용)인생 박시핏셔츠_인더모어.json', '쇼핑몰 · 마켓-바지-슬랙스-[하이웨스트] 데이 핀턱 와이드슬랙스 (3color)_321g.json', '쇼핑몰 · 마켓-아우터-자켓-노카라 골드버튼 숏 가을 트위드 자켓 JH08B0.json', '쇼핑몰 · 마켓-상의-니트-(6col)민자 보트넥 썸머 여리 긴팔 니트 티셔츠_반하리마켓.json', '쇼핑몰 · 마켓-아우터-기타-스트링 퍼프 플리츠원피스(가을ver.).json', '쇼핑몰 · 마켓-바지-슬랙스-[1+1] 세상편한롱슬랙스 (인기폭발!!).json', '쇼핑몰 · 마켓-바지-청바지-[무조건추천] 트임 하이 롱 와이드 데님 팬츠_잇쇼제이.json', '쇼핑몰 · 마켓-상의-티셔츠-데일리 크롭 티셔츠(4color)_버튼나인.json', '쇼핑몰 · 마켓-아우터-가디건-미니 숏 울 니트 브이 여리 가디건 _ 더굿즈.json', '쇼핑몰 · 마켓-원피스-미니-데코 브이넥 벨트 퍼프 미니원피스 (3color)_ 라뜨라.json', '쇼핑몰 · 마켓-바지-레깅스-[단독가] 내가제일편해, 조거 트레이닝팬츠 3color_럽앤썸.json', '쇼핑몰 · 마켓-상의-후드_맨투맨-[남녀공용] 스티치 오버핏 박시 벌룬 맨투맨_블리즈.json', '쇼핑몰 · 마켓-상의-셔츠_블라우스-[얇은버전] 오버핏 루즈 빅셔츠 (4 color) _데이비쥬.json', '쇼핑몰 · 마켓-상의-베스트-❤❤-2000원 코튼 당일출고 (판매율1위) 클라우드 브이넥 베스트  (5color).json', '쇼핑몰 · 마켓-상의-베스트-디번 브이넥 울 니트조끼 [ 4color ]_어썸.json', '쇼핑몰 · 마켓-바지-반바지-(RP584) 데일리 레더 숏 팬츠.json', '쇼핑몰 · 마켓-바지-슬랙스-(벨트SET) 핀턱 와이드 롱슬랙스 3color_더모닌.json', '쇼핑몰 · 마켓-아우터-자켓-[기획특가]포시 트위드 자켓.json', '쇼핑몰 · 마켓-바지-슬랙스-[찰랑핏] 롱디 와이드 슬랙스 1color_소솔.json', '쇼핑몰 · 마켓-상의-베스트-(5color)엔느 베스트 브이넥 루즈핏 니트 조끼_프렌치오브.json', '쇼핑몰 · 마켓-바지-슬랙스-밴딩 슬랙스 트레이닝 일자팬츠 (3color) _미닛마켓.json', '쇼핑몰 · 마켓-아우터-기타-허그 코튼 블라우스(가을ver.)(가을_라운드넥_긴팔).json', '쇼핑몰 · 마켓-바지-트레이닝_조거-가격실화?????R2381 야나두 통팬츠.json', '쇼핑몰 · 마켓-아우터-패딩-오레곤 데일리 포켓 점퍼.json', '쇼핑몰 · 마켓-바지-트레이닝_조거-[ 남여공용_S - L까지] 4계절 매일매일 와이드 트레이닝 팬츠 _부기샵.json', '쇼핑몰 · 마켓-아우터-자켓-[단독가] (데일리) 베이직의 정석 면 자켓_코튼로그.json', '쇼핑몰 · 마켓-바지-청바지-백슬릿 부츠컷 진_오브제스트.json', '쇼핑몰 · 마켓-원피스-미니-[3col_핏예쁨] 스퀘어넥 퍼프 벌룬 소매 셔링 밴딩 프릴 캉캉 플레어 미니 원피스 _아이메리.json', '쇼핑몰 · 마켓-바지-청바지-[하이웨스트] ap 일자 와이드팬츠 (7color)_321g.json', '쇼핑몰 · 마켓-상의-베스트-울 버터 니트 조끼베스트 (4color)_페트리코어.json', '쇼핑몰 · 마켓-바지-반바지-[ 뱃살자동보정 ] 하이웨스트 투버튼 절개 컷팅 반바지 _ 부기샵.json', '쇼핑몰 · 마켓-상의-후드_맨투맨-스티치 맨투맨+조거팬츠 투피스 트레이닝세트_뽀솜.json', '쇼핑몰 · 마켓-바지-슬랙스-핏 대박! 썸머 핀턱 와이드 슬랙스 (2color)_세러데이무드.json', '쇼핑몰 · 마켓-상의-티셔츠-힙덮는 롱 루즈핏 긴팔티 4color_럽앤썸.json', '쇼핑몰 · 마켓-아우터-코트-라이트 하프 트렌치 코트 (2 color)_로그인.json', '쇼핑몰 · 마켓-아우터-점퍼-베이직 후드 집업 (4color)_모어데이.json', '쇼핑몰 · 마켓-상의-니트-힐다 니트가디건.json', '쇼핑몰 · 마켓-아우터-점퍼-(가을신상) 데일리 셔링 간절기 점퍼(3color)_버튼나인.json', '쇼핑몰 · 마켓-아우터-자켓-시럽 베이직 간절기 숏자켓 5color_럽앤썸.json', '쇼핑몰 · 마켓-아우터-기타-무드 바막 아노락.json', '쇼핑몰 · 마켓-바지-반바지-[심플♥베이직]원카드 핀턱 숏 팬츠.json', '쇼핑몰 · 마켓-바지-트레이닝_조거-[가디건+나시+바지 set]텐션 쿨링 스판 슬림 와이드팬츠 꾸안꾸 트레이닝 세트(3color)_벨라포유.json', '쇼핑몰 · 마켓-상의-니트-플레인 스프링 스퀘어넥 니트_유라타임.json', '쇼핑몰 · 마켓-상의-니트-박시핏 브이넥 짜임 롱 니트 [6color]_오프닝무드.json', '쇼핑몰 · 마켓-아우터-점퍼-[4col]힙해 스트링 크롭 바람막이 야상 점퍼_니드어린.json', '쇼핑몰 · 마켓-상의-베스트-모더니 루즈 데일리 박시 브이넥 니트 조끼(6color)_빈야드.json', '쇼핑몰 · 마켓-상의-니트-[힙가려요] 여름 루즈핏 입술넥 부클 여리 니트_미우블랑.json', '쇼핑몰 · 마켓-아우터-가디건-109269 소프트 베이직 숏 가디건.json', '쇼핑몰 · 마켓-상의-티셔츠-(데일리) 데끼 포인트 박시핏 라운드 긴팔 티셔츠_코튼로그.json', '쇼핑몰 · 마켓-아우터-기타-over-fit bolero cardigan (2colors).json', '쇼핑몰 · 마켓-상의-셔츠_블라우스-스프링 리아 데일리셔츠 [ 6color ]_어썸.json', '쇼핑몰 · 마켓-아우터-점퍼-크롭무지바람막이점퍼.json', '쇼핑몰 · 마켓-상의-후드_맨투맨-오버 패치 맨투맨 (5color)_모어데이.json', '쇼핑몰 · 마켓-상의-후드_맨투맨-샌디 루즈핏 후드티[ 3color ]_어썸.json', '쇼핑몰 · 마켓-바지-레깅스-[단독입고]에브리데이 롱 와이드 트레이닝 팬츠 - pt (운영자강력추천!).json', '쇼핑몰 · 마켓-바지-레깅스-[당일발송_1,000장돌파] 밴딩 부츠컷 트레이닝 팬츠 레깅스 바지 블랙 _ 그레이 _ 아이보리.json', '쇼핑몰 · 마켓-상의-셔츠_블라우스-(페미닌) 가나슈 브이넥 셔링 긴팔 블라우스_코튼로그.json', '쇼핑몰 · 마켓-상의-티셔츠-햇빛차단) 루즈 젤리 긴팔 니트티셔츠 (6 color) _로그인.json', '쇼핑몰 · 마켓-아우터-자켓-[무료배송]리츠 체크자켓.json', '쇼핑몰 · 마켓-바지-레깅스-[1+1]인생핏 와이드 통바지 밴딩 트레이닝 팬츠 3color.json', '쇼핑몰 · 마켓-바지-레깅스-부츠컷 레깅스 트레이닝 팬츠.json', '쇼핑몰 · 마켓-아우터-기타-[립합] 보카시버튼베스트.json', '쇼핑몰 · 마켓-아우터-기타-[립합] 컬러칩밴딩집업.json', '쇼핑몰 · 마켓-상의-후드_맨투맨-44-77까지[남녀공용_오버핏_국내생산] 2컬러 트레이닝 아노락 후드 반집업.json', '쇼핑몰 · 마켓-아우터-패딩-빅사이즈 오버핏 데일리 컬러 박스 패딩 짚업 점퍼.json', '쇼핑몰 · 마켓-아우터-기타-퍼프 벌룬 후드 집업_럽앤제이.json', '쇼핑몰 · 마켓-바지-반바지-하이웨스트 허리밴딩 레더반바지 여유핏 만능코디템 롱부츠코디 봄코디 가죽팬츠.json', '쇼핑몰 · 마켓-바지-트레이닝_조거-kiki 트레이닝 츄리닝 하이웨스트팬츠 4col_무드글램.json', '쇼핑몰 · 마켓-바지-반바지-[단독가] [3컬러_색감깡패] 하이웨스트 언발 데미지 반바지_유어아운스퀘어.json', '쇼핑몰 · 마켓-상의-티셔츠-(데일리) 여름내내~ 슬라브 쿨링 긴팔 티셔츠_코튼로그.json', '쇼핑몰 · 마켓-아우터-점퍼-여자 크롭 바람막이 집업.json', '쇼핑몰 · 마켓-상의-티셔츠-네온 발포 레터링 루즈핏 반팔 크롭티 TH14B0.json', '쇼핑몰 · 마켓-바지-레깅스-언발 트임 배색라인 조거 트레이닝팬츠_복플레이스.json', '쇼핑몰 · 마켓-아우터-무스탕_퍼-셀러 린넨 크롭 셋업 자켓 (3color).json', '쇼핑몰 · 마켓-바지-면바지-[반하이] 코튼 컷팅 슬림핏 일자팬츠 (4color)_321g.json', '쇼핑몰 · 마켓-아우터-코트-[대박추천] 기본트렌치 오버핏 바바리 코트 2color_헤이블.json', '쇼핑몰 · 마켓-바지-트레이닝_조거-[트레이닝세트맛집+키작녀인생핏] 빌도크롭슬라브티+조거팬츠세트 3color_헬로우쿨피스.json', '쇼핑몰 · 마켓-바지-레깅스-(내가 찾던 바로 그핏!) 고퀄 부츠컷 밴딩 절개 팬츠_바이영.json', '쇼핑몰 · 마켓-상의-베스트-브이 숏 니트 베스트 (3color)_더모닌.json', '쇼핑몰 · 마켓-아우터-가디건-[2color]펄잼 브이넥 니트 가디건.json', '쇼핑몰 · 마켓-아우터-무스탕_퍼-컬러팡팡 cd.json', '쇼핑몰 · 마켓-상의-후드_맨투맨-플로리다 프린팅 맨투맨_혀나블리.json', '쇼핑몰 · 마켓-상의-베스트-[울70] 가을 크롭 니트조끼  (3color).json', '쇼핑몰 · 마켓-원피스-미니-데일리 셔츠 원피스_혀나블리.json', '쇼핑몰 · 마켓-바지-레깅스-썸 플리츠 밴딩 팬츠 (4 color) _데이비쥬.json', '쇼핑몰 · 마켓-아우터-코트-[당일배송 베이지_BEST] 블룸 트렌치 코트 (크림,베이지).json', '쇼핑몰 · 마켓-상의-니트-배색이 매력뽀인트! U넥 니트_혀나블리.json', '쇼핑몰 · 마켓-아우터-자켓-베스트크롭야상(4c).json', '쇼핑몰 · 마켓-아우터-자켓-[무료배송]베니스 트위드 자켓.json', '쇼핑몰 · 마켓-바지-반바지-숏트 레더팬츠 가죽반바지 2col_무드글램.json', '쇼핑몰 · 마켓-아우터-점퍼-바스락 루즈핏 후드 집업 바람막이 점퍼 (2color).json', '쇼핑몰 · 마켓-아우터-기타-더인 페이스 후드집업 2color.json', '쇼핑몰 · 마켓-바지-레깅스-[단독가] [봄버전기모X]트레이닝 스판 포켓 조거 밴딩팬츠_복플레이스.json', '쇼핑몰 · 마켓-아우터-기타-모던 베이직조끼[3color].json', '쇼핑몰 · 마켓-상의-셔츠_블라우스-셔링 크롭 블라우스 (4 color) _데이비쥬.json', '쇼핑몰 · 마켓-상의-셔츠_블라우스-루즈핏 플레인 셔츠.json', '쇼핑몰 · 마켓-바지-반바지-[3Color]라인 크롭나시 밴딩반바지 크롭후드집업 몽땅 트레이닝세트_복플레이스.json', '쇼핑몰 · 마켓-원피스-미니-샤틴 미니 셔츠 벨트 새틴 원피스 3color_예핏.json', '쇼핑몰 · 마켓-상의-후드_맨투맨-[가을신상_주문폭주!]크림치즈맨투맨.json', '쇼핑몰 · 마켓-바지-면바지-언발 허리 벨트 팬츠 ( 2 color ).json', '쇼핑몰 · 마켓-바지-슬랙스-[ 허리밴딩_와이드핏 ] 모델소장 하이웨스트 롱 와이드 슬랙스 _ 부기샵.json', '쇼핑몰 · 마켓-바지-레깅스-[ 집앞이야나와룩 ] 허리밴딩 린넨 카고 조거 팬츠 _ 부기샵.json', '쇼핑몰 · 마켓-아우터-자켓-아방한 귀여움의 숏 자켓_혀나블리.json', '쇼핑몰 · 마켓-바지-면바지-(몸매보정) 썸머 쿨 코튼 린넨 데일리 팬츠(2color)_빈야드.json', '쇼핑몰 · 마켓-상의-후드_맨투맨-박스 피그먼트 다잉 맨투맨 3color [어나더포유].json', '쇼핑몰 · 마켓-상의-티셔츠-[1+1무배]가을특가 보들이 라운드긴팔티(13컬러).json', '쇼핑몰 · 마켓-상의-니트-파스텔샤벳 펀칭니트_302호.json', '쇼핑몰 · 마켓-아우터-코트-[MADE]마가린 싱글트렌치코트.json', '쇼핑몰 · 마켓-원피스-미니-[재입고_문의폭주] 포포롱 쉬폰 원피스 _ 4계절_채도.json', '쇼핑몰 · 마켓-아우터-기타-데얼 스트라이프 셔츠(가을ver.).json', '쇼핑몰 · 마켓-바지-슬랙스-✨오늘출발[진짜 1+1]✨ 도톰가을버전추가 와이드 찰랑 슬랙스 팬츠.json', '쇼핑몰 · 마켓-아우터-기타-소프트 쉬어 플리츠 스커트(스커트_가을).json', '쇼핑몰 · 마켓-바지-청바지-허리밴딩! 밑트임 연청 부츠컷 _ 알콜.json', '쇼핑몰 · 마켓-아우터-점퍼-다닝후드집업 (5color)_하이쭈.json', '쇼핑몰 · 마켓-아우터-무스탕_퍼-오후 스카시 cd.json', '쇼핑몰 · 마켓-상의-후드_맨투맨-[미리준비하는 가을신상] 볼리비아박시단가라맨투맨 4color_헬로우쿨피스.json', '쇼핑몰 · 마켓-아우터-점퍼-[ 벌룬소매 후드집업 ] 베베 벌룬 무지 후드집업.json', '쇼핑몰 · 마켓-상의-후드_맨투맨-루즈핏 아노락 후드 집업.json', '쇼핑몰 · 마켓-아우터-가디건-이브닝 루즈핏 브이넥 니트 데일리 가디건_프렌치오브.json', '쇼핑몰 · 마켓-상의-티셔츠-[초여름까지] 오버핏 슬라브 긴팔티_혀나블리.json', '쇼핑몰 · 마켓-상의-니트-[5컬러]페이크 탑 프릴 크롭 가디건 골지 티_니드어린.json', '쇼핑몰 · 마켓-아우터-패딩-오버핏 빅사이즈 오리깃털 덕다운 패딩 짚업 점퍼.json', '쇼핑몰 · 마켓-바지-레깅스-바이커 5부 레깅스.json', '쇼핑몰 · 마켓-아우터-기타-페이스트 체크자켓(가을).json', '쇼핑몰 · 마켓-원피스-미니-[잘떡핏_찐추천~!] 스퀘어넥 캉캉 플레어 허리밴딩 미니원피스.json', '쇼핑몰 · 마켓-바지-슬랙스-[단독가] [주문폭주]쫀쫀 스판 부츠컷 팬츠_복플레이스.json', '쇼핑몰 · 마켓-아우터-가디건-[1+1할인_5color]루벳 세미 크롭 브이넥 가디건.json', '쇼핑몰 · 마켓-아우터-점퍼-윈드 크롭야상점퍼.json', '쇼핑몰 · 마켓-아우터-무스탕_퍼-재진행! [안감무스탕] 뽀글이 덤블 양털조끼 (4color).json', '쇼핑몰 · 마켓-상의-셔츠_블라우스-재입고 로랑 진주 퍼프 블라우스 2col_무드글램.json', '쇼핑몰 · 마켓-아우터-가디건-[6COLOR] 데일리 팝콘 세미크롭 가디건_데일리히어.json', '쇼핑몰 · 마켓-상의-티셔츠-(얇고 시원한) 버튼 단추 브이넥 여름 긴팔 티셔츠_바이영.json', '쇼핑몰 · 마켓-아우터-코트-[머플러셋트] 울 고급 퍼 롱코트_ 울코트 (2color) _ 인디어린.json', '쇼핑몰 · 마켓-바지-청바지-허리밴딩! 밑트임 진청 부츠컷 _ 알콜.json', '쇼핑몰 · 마켓-아우터-코트-[MADE LAUREN][아담녀_평균녀]런던 트렌치-코트(ver.맥시더블).json', '쇼핑몰 · 마켓-바지-슬랙스-[재입고!] [단독가] 플랫 핀턱 와이드 뒷밴딩 슬랙스 (3color)_세러데이무드.json', '쇼핑몰 · 마켓-바지-청바지-인생템! 일자핏 데님팬츠 _ 중청 진청 하이웨스트 일자팬츠 _ 청바지 _ 알콜.json', '쇼핑몰 · 마켓-상의-후드_맨투맨-오버사이즈 모던 후드티 (3color)_모어데이.json', '쇼핑몰 · 마켓-아우터-코트-[MADE] 어텀브리즈 트렌치코트.json', '쇼핑몰 · 마켓-상의-티셔츠-5컬러 여리여리 랩 티셔츠_오브제스트.json', '쇼핑몰 · 마켓-상의-후드_맨투맨-[ 꾸안꾸! ] 이건 꼭 베이직 후드 긴팔 티셔츠 (4color).json', '쇼핑몰 · 마켓-아우터-자켓-헨리 4포켓 레더자켓.json', '쇼핑몰 · 마켓-아우터-코트-[당일출고] 싱글 울 루즈핏 핸드메이드숏코트.json', '쇼핑몰 · 마켓-상의-후드_맨투맨-남녀공용 봄 기획 맨투맨(9color)_무이마켓.json', '쇼핑몰 · 마켓-바지-면바지-코지 투 핀턱 와이드 코튼 팬츠 (2color)_세러데이무드.json', '쇼핑몰 · 마켓-상의-니트-[PREMIUM] Warm cashmere button knit 웜 캐시미어 소프트 원오프숄더 버튼 니트 (Ivory).json', '쇼핑몰 · 마켓-상의-베스트-❤신상할인 초특가❤레이어드 브이넥 니트 데일리 조끼 베스트.json', '쇼핑몰 · 마켓-상의-니트-[힙가려요] 루즈핏 부클 브이넥 니트_미우블랑.json', '쇼핑몰 · 마켓-아우터-무스탕_퍼-티나-스카시.json', '쇼핑몰 · 마켓-아우터-점퍼-프렌크롭야상점퍼(4color).json', '쇼핑몰 · 마켓-원피스-미니-랄라 리본 프릴 원피스_메종셀린.json', '쇼핑몰 · 마켓-바지-슬랙스-핏좋은 핀턱 하이웨스트 슬랙스 (2color)_ 라뜨라.json', '쇼핑몰 · 마켓-상의-베스트-[깔끔한♥베스트]레볼루션 니트 베스트.json', '쇼핑몰 · 마켓-아우터-패딩-오버핏 빅사이즈 브이넥 다이아몬드 깔깔이 단추 패딩.json', '쇼핑몰 · 마켓-아우터-점퍼-[예쁜핏] 핵!간지 배색 크롭 바람막이_슈가파우더.json', '쇼핑몰 · 마켓-바지-레깅스-[단독가] [가격대박]스판 잔골지 찰랑 밴딩 와이드팬츠_복플레이스.json', '쇼핑몰 · 마켓-바지-레깅스-[2중택일]일반 부츠컷 나팔 여름 바지 블랙 레깅스_헤이주드.json', '쇼핑몰 · 마켓-상의-니트-[캐시미어] [12color_BEST] 모던 솜사탕 브이 니트_모던제이.json', '쇼핑몰 · 마켓-아우터-점퍼-카로스 크롭 레더 점퍼 _비커밍27.json', '쇼핑몰 · 마켓-상의-후드_맨투맨-(무료배송)풀 박시핏 워싱 피그먼트 맨투맨.json', '쇼핑몰 · 마켓-아우터-기타-글램 바람막이 아노락 (2color).json', '쇼핑몰 · 마켓-바지-면바지-BUTTER.JEAN 오트와이드일자팬츠.json', '쇼핑몰 · 마켓-바지-면바지-(S-XXL) 핀턱 와이드 코튼 팬츠 (2color)_더모닌.json', '쇼핑몰 · 마켓-상의-니트-[여리여리핏♥V넥NT]버츠 부클 브이니트.json', '쇼핑몰 · 마켓-바지-면바지-[예쁜디쟌_S~XXL]가로 5버튼 일자배기 데일리 면데님팬츠_복플레이스.json', '쇼핑몰 · 마켓-아우터-가디건-박시 니트 cd (*4color).json', '쇼핑몰 · 마켓-원피스-미니-퍼프 미니 레오파드 호피 원피스 _미닛마켓.json', '쇼핑몰 · 마켓-상의-니트-(4 color) [모디소장] 스퀘어 사각 시보리 니트_모디데이.json', '쇼핑몰 · 마켓-바지-슬랙스-펌킨 하이웨스트 벨티드 핀턱 와이드 팬츠 2color_나이브실루엣.json', '쇼핑몰 · 마켓-바지-슬랙스-흐르는핏 밴딩 와이드팬츠 _ 구김x (3color) _알콜.json', '쇼핑몰 · 마켓-아우터-패딩-[초특가][남녀공용] 벌룬 패딩 (8color).json', '쇼핑몰 · 마켓-바지-청바지-얇고 길어보여요! 하이웨스트 부츠컷 데님팬츠 _ 알콜.json', '쇼핑몰 · 마켓-아우터-가디건-(무료배송) (디즈니정품) 미니미 미키 가디건.json', '쇼핑몰 · 마켓-바지-면바지-(3color)코튼 가을 밴딩 와이드 하이웨스트 바지 팬츠_프렌치오브.json', '쇼핑몰 · 마켓-상의-니트-모어 브이넥 캐시 cardigan_빈야드.json', '쇼핑몰 · 마켓-바지-슬랙스-[가을신상] 헤이핀턱스판슬랙스 (3color) #와이드.json', '쇼핑몰 · 마켓-아우터-패딩-1+1 남녀공용 경량 패딩 조끼.json', '쇼핑몰 · 마켓-아우터-가디건-❤단독진행_주문폭주❤ 심플 캐시미어 가디건 (12color).json', '쇼핑몰 · 마켓-상의-베스트-94802 크리밍 플리츠 롱 스커트.json', '쇼핑몰 · 마켓-아우터-점퍼-[당일] 그레이 크롭 후드집업 , 후드티 크롭후드 트레이닝복.json', '쇼핑몰 · 마켓-바지-슬랙스-무드 핀턱 슬림 일자 와이드팬츠 기본 슬랙스(3color)_빈야드.json', '쇼핑몰 · 마켓-아우터-패딩-페기 루즈핏 스트링 숏야상.json', '쇼핑몰 · 마켓-아우터-기타-[립합] 소프트타올후드.json', '쇼핑몰 · 마켓-아우터-자켓-[주문폭주!!_만장돌파_리뷰천개] 루즈핏 베이직 기본 정장 자켓 _아이메리.json', '쇼핑몰 · 마켓-상의-티셔츠-[1+1무배]부들부들 활용도만점 라운드긴팔티(15컬러).json', '쇼핑몰 · 마켓-아우터-자켓-[주문폭주] 차르르 썸머투포켓 린넨야상_302호.json', '쇼핑몰 · 마켓-아우터-자켓-인생 뒷트임 버튼 자켓 (3 color).json', '쇼핑몰 · 마켓-아우터-가디건-가디건+나시SET!! 썸머 크롭가디건 세트_제이너프17.json', '쇼핑몰 · 마켓-바지-반바지-(투피스 세트가격) 레이온 스판 긴팔티 밴딩팬츠 반바지_바이영.json', '쇼핑몰 · 마켓-바지-반바지-♥주문폭주♥[S-2XL]군살 커버 코튼 4부 와이드핏 캐주얼 하이웨스트 반바지 팬츠_땡스제이.json', '쇼핑몰 · 마켓-원피스-미니-페미닌 도트 플라워 원피스_오브제스트.json', '쇼핑몰 · 마켓-상의-티셔츠-[ 5col ] 해질걱정 절대없는~베이글 긴팔티셔츠_슈가파우더.json', '쇼핑몰 · 마켓-바지-트레이닝_조거-[간절기신상_핏예쁨] 쭈리 통 와이드팬츠 (4color)_ 알콜.json', '쇼핑몰 · 마켓-바지-반바지-[쭈리안감]미니끈트레이닝반바지(3color).json', '쇼핑몰 · 마켓-바지-레깅스-인생핏 와이드 통바지 밴딩 트레이닝 팬츠 3color.json', '쇼핑몰 · 마켓-아우터-자켓-[가성비갑_인기급상승!] 심플싱글자켓 _ 가을자켓 _ 기본자켓 (4color).json', '쇼핑몰 · 마켓-아우터-가디건-[햇빛차단] 여름 린넨 가디건(4color)_니드어린.json', '쇼핑몰 · 마켓-아우터-코트-[울70_누적1천장돌파!] *프리오더* 벨트 누빔 겨울코트 롱코트 울코트 싱글코트 3col.json', '쇼핑몰 · 마켓-아우터-기타-헤일리 롱슬랙스.json', '쇼핑몰 · 마켓-아우터-코트-(품질보장♥ 3col) 벨트 트렌치 롱 코트_오하이오.json', '쇼핑몰 · 마켓-바지-면바지-리얼 기본핏 허리밴딩 면 일자팬츠 (3color)_ 알콜.json', '쇼핑몰 · 마켓-바지-청바지-(국내 진짜 편해요) 히든밴딩 쫀득 스판 은은 부츠컷 일자팬츠 면바지_바이영.json', '쇼핑몰 · 마켓-상의-셔츠_블라우스-신비로운 MOON 뒤프린팅 빅사이즈반팔 3color_럽앤썸.json', '쇼핑몰 · 마켓-바지-레깅스-[마약레깅스] 하이웨스트 밴딩 부츠컷 절개 레깅스_비비드글로우.json', '쇼핑몰 · 마켓-바지-반바지-레더 밴딩팬츠 (1color).json', '쇼핑몰 · 마켓-바지-반바지-1+1 코튼 기본 밴딩 3부 숏 홈웨어 트레이닝 반바지.json', '쇼핑몰 · 마켓-바지-반바지-골반생성 하이웨스트 스판 반바지 (2color)_아날로젯.json', '쇼핑몰 · 마켓-바지-트레이닝_조거-당일발송~S~5XL(남여공용)힙해 카고바지 팬츠 허리스판 배기바지 루즈핏 보이핏 빅사이즈 77 88 99.json', '쇼핑몰 · 마켓-상의-티셔츠-1+1할인_핵여리핏❤ 찰랑 브이넥 긴팔티.json', '쇼핑몰 · 마켓-상의-셔츠_블라우스-[여리여리핏♥BL]피아이 요루 블라우스.json', '쇼핑몰 · 마켓-아우터-코트-(역시즌세일_제작_2ver기장) 울90% 핸드메이드 롱코트 3color.json', '쇼핑몰 · 마켓-상의-티셔츠-3컬러 모달 면 반팔 롤업 티셔츠_잇쇼제이.json', '쇼핑몰 · 마켓-아우터-기타-크로플 쓰리 버튼 자켓.json', '쇼핑몰 · 마켓-아우터-무스탕_퍼-보아털 집업 후리스 자켓_디얼로그.json', '쇼핑몰 · 마켓-바지-청바지-하이웨스트 슬림 일자핏 생지 데님 _ 후기최고 :-) _모디무드.json', '쇼핑몰 · 마켓-바지-레깅스-[가을쭉1+1할인] 자체제작 조거 트레이닝팬츠.json', '쇼핑몰 · 마켓-바지-슬랙스-[완전편함!!] 말라보이는 핏 차르르 와이드팬츠 (다리 부담감 제로)_미우블랑.json', '쇼핑몰 · 마켓-아우터-가디건-라니 프릴 가디건.json', '쇼핑몰 · 마켓-아우터-가디건-[단독가] 멜팅골지 가디건나시세트5color_헬로우쿨피스.json', '쇼핑몰 · 마켓-아우터-기타-[4계절활용]세미 크롭 후드집업.json', '쇼핑몰 · 마켓-아우터-코트-*국내제작* 알리 트렌치코트 (베이지)*.json', '쇼핑몰 · 마켓-상의-베스트-빈티지 패턴 램스울 버튼 니트 조끼 _ 4 colors!.json', '쇼핑몰 · 마켓-아우터-자켓-[깔끔한 보이핏!] 어깨뽕없는 간절기 투버튼 자켓 2color_럽앤썸.json', '쇼핑몰 · 마켓-상의-후드_맨투맨-[작년판매량1위]베어맨투맨.json', '쇼핑몰 · 마켓-아우터-점퍼-빅체크 리버시블 양면패딩.json', '쇼핑몰 · 마켓-바지-트레이닝_조거-[ 착용감좋아요! ] 밴딩 패치 조거팬츠 _ 부기샵.json', '쇼핑몰 · 마켓-바지-면바지-핀턱 코튼 트윌 와이드 롱팬츠.json', '쇼핑몰 · 마켓-아우터-점퍼-[주문폭주_썸머_간절기룩] 바람막이 후드점퍼_302호.json', '쇼핑몰 · 마켓-아우터-무스탕_퍼-리타-진주린넨b.json', '쇼핑몰 · 마켓-상의-베스트-브이넥 니트 조끼 베스트 2color.json', '쇼핑몰 · 마켓-상의-베스트-[인기]유니크골지니트조끼(4color).json', '쇼핑몰 · 마켓-상의-셔츠_블라우스-가을색감,시나몬 데일리 셔츠 [ 11color ]_어썸.json', '쇼핑몰 · 마켓-상의-베스트-[핏보장~!] 데일리 루즈핏 브이넥 꽈배기 니트조끼.json', '쇼핑몰 · 마켓-상의-셔츠_블라우스-[2만장돌파♥]데일리 커프 셔츠 _ 기본셔츠 (3color)_ 알콜.json', '쇼핑몰 · 마켓-바지-반바지-레더 숏 밴딩 가죽반바지 2color [어나더포유].json', '쇼핑몰 · 마켓-바지-청바지-[히든밴딩] 하이웨스트 투버튼 세미부츠컷_유어아운스퀘어.json', '쇼핑몰 · 마켓-바지-슬랙스-(촤르르) 핀턱 와이드 롱 슬렉스 (2 color) _로그인.json', '쇼핑몰 · 마켓-상의-셔츠_블라우스-강추 리본블라우스 가을블라우스 4col_무드글램.json', '쇼핑몰 · 마켓-바지-면바지-바스락 일자 조거팬츠(3color).json', '쇼핑몰 · 마켓-상의-후드_맨투맨-[미리만나는 가을신상] 고퀄 플래닛 오버핏 데일리 후드티 3color_망뜨스튜디오.json', '쇼핑몰 · 마켓-상의-후드_맨투맨-[재진행] 포인트 오버핏 맨투맨 (3color).json', '쇼핑몰 · 마켓-상의-티셔츠-[6컬러]여리여리 단가라 티_현지언니.json', '쇼핑몰 · 마켓-바지-면바지-[S~XL인생바지]뒷밴딩 인생핏 난스판 데일리 무파진 찢 일자 면팬츠_복플레이스.json', '쇼핑몰 · 마켓-바지-면바지-리얼 하이웨스트 핀턱와이드팬츠(2610703).json', '쇼핑몰 · 마켓-아우터-점퍼-[자체제작당일출고] 런닝집업아노락SET(3c)♥후드집업+밴딩반바지 세트상품:D.json', '쇼핑몰 · 마켓-상의-니트-[단독가] (루즈핏) 여리 포텐 브이넥 긴팔 니트_코튼로그.json', '쇼핑몰 · 마켓-상의-후드_맨투맨-메이쭈리크롭맨투맨(6color).json', '쇼핑몰 · 마켓-상의-티셔츠-[1+1행사중] 루즈핏 무지 긴팔 박시 기본 티셔츠.json', '쇼핑몰 · 마켓-바지-청바지-[ 흔하지않은컬러감 ] 그레이시 하이웨스트 슬림 일자 팬츠 _ 부기샵.json', '쇼핑몰 · 마켓-아우터-무스탕_퍼-에버-스카시cd.json', '쇼핑몰 · 마켓-바지-트레이닝_조거-[남녀공용_2사이즈] 풍성한 밴딩 조거팬츠 , 트레이닝팬츠 4color_럽앤썸.json', '쇼핑몰 · 마켓-아우터-패딩-팔레트 데일리 패딩 - pd (가성비good!)(운영자강력추천)(커플룩추천).json', '쇼핑몰 · 마켓-아우터-점퍼-(3color)썸띵 카라 크롭 숏 루즈핏 밴딩 가을 야상 점퍼_프렌치오브.json', '쇼핑몰 · 마켓-아우터-코트-[막걸쳐도이뻐] 브리티시 롱셔츠 자켓.json', '쇼핑몰 · 마켓-아우터-가디건-(울25) 꽈배기 루즈핏 가디건 5color_더모닌.json', '쇼핑몰 · 마켓-상의-베스트-[핏 예술~!] 오버핏 아가일 크롭 니트조끼.json', '쇼핑몰 · 마켓-아우터-가디건-[3color_set] 페이즐 나시 니트&가디건_모던제이.json', '쇼핑몰 · 마켓-아우터-기타-긴팔 데님 셔츠원피스.json', '쇼핑몰 · 마켓-상의-셔츠_블라우스-런던 루즈핏 코튼 셔츠 ADD COLORS_유라타임.json', '쇼핑몰 · 마켓-아우터-점퍼-City 스트랩 소매벌룬 숏 야상 2color_럽앤썸.json', '쇼핑몰 · 마켓-바지-청바지-[2color] 커트 생지 일자 데님팬츠_헤이리지.json', '쇼핑몰 · 마켓-아우터-패딩-[품절임박]머플러 경량 롱 패딩(2color)미시룩 데일리룩.json', '쇼핑몰 · 마켓-바지-반바지-쫀쫀 하이웨스트 스판 코튼 숏팬츠 (2col)_체리픽.json', '쇼핑몰 · 마켓-아우터-무스탕_퍼-주크청자켓.json', '쇼핑몰 · 마켓-아우터-패딩-부클 컬러대비 솜 빅사이즈 패딩 3color.json', '쇼핑몰 · 마켓-아우터-코트-wool90% 프렌치무드 핸드메이드코트.json', '쇼핑몰 · 마켓-바지-청바지-[하이웨스트] 일자 와이드팬츠 청바지 (4color)_321g.json', '쇼핑몰 · 마켓-아우터-코트-울 후드 롱코트.json', '쇼핑몰 · 마켓-아우터-패딩-[남녀공용] 모헤나 스퀘어 패딩 (3color).json', '쇼핑몰 · 마켓-바지-면바지-(3color)무드 코튼 밴딩 하이웨스트 핀턱 와이드 가을 팬츠_프렌치오브.json', '쇼핑몰 · 마켓-상의-티셔츠-[반팔+맨투맨추가!!_누적판매량 19,000장]오피셜반팔.json', '쇼핑몰 · 마켓-아우터-가디건-[17colors] 캐시미어 메리 브이넥 가디건_망뜨스튜디오.json', '쇼핑몰 · 마켓-바지-청바지-[ 미친색감 _ 실물깡패 ] 감성적인 하이웨스트 스판 슬림 일자 컷팅진 _ 부기샵.json', '쇼핑몰 · 마켓-아우터-코트-108760 포멀 하프 트렌치 자켓.json', '쇼핑몰 · 마켓-아우터-코트-[당일발송][인기재입고♥]비바 체크 하프자켓.json', '쇼핑몰 · 마켓-상의-베스트-❤당일출고❤신상할인❤ 클라우드 코튼 베스트(7color).json', '쇼핑몰 · 마켓-상의-셔츠_블라우스-FW [4col] say 브이 벌룬 캉캉 셔링 긴팔 루즈핏 블라우스 _ 러브모노.json', '쇼핑몰 · 마켓-바지-레깅스-[세트_가성비굿]스판 무지 반팔 크롭티 밴딩 조거팬츠 트레이닝세트_복플레이스.json', '쇼핑몰 · 마켓-상의-베스트-[봄신상_남녀공용]파스텔꽈배기브이니트조끼(6color).json', '쇼핑몰 · 마켓-바지-반바지-[최저가_미친핏] 에이 데님 5부 청바지 팬츠.json', '쇼핑몰 · 마켓-바지-레깅스-쫀쫀 골지 스판 부츠컷 레깅스 4color_올어바웃마켓.json', '쇼핑몰 · 마켓-상의-후드_맨투맨-[국내제작] 라이트 루즈 후드티 (3color).json', '쇼핑몰 · 마켓-상의-니트-도프 크롭 카라 니트 (3color)_더모닌.json', '쇼핑몰 · 마켓-상의-니트-(6color)파스텔 가을 스판 루즈핏 라운드넥 찰랑 티셔츠_프렌치오브.json', '쇼핑몰 · 마켓-바지-레깅스-하이웨스트 부츠컷 레깅스 PT (분또)_심플와이.json', '쇼핑몰 · 마켓-바지-반바지-만장돌파!! 밑단 헤짐 숏팬츠_미우블랑.json', '쇼핑몰 · 마켓-바지-반바지-[ 하이웨스트 ] 언발 스티치 랩 치마 바지 _ 부기샵.json', '쇼핑몰 · 마켓-아우터-무스탕_퍼-아만다-플레어청ops.json', '쇼핑몰 · 마켓-아우터-자켓-(2col_가을신상) 벨트 트렌치 숏 자켓_반하리마켓.json', '쇼핑몰 · 마켓-바지-트레이닝_조거-부츠컷의 정석! 가격실화? R2382 리썸 부츠컷팬츠.json', '쇼핑몰 · 마켓-바지-트레이닝_조거-[5Color]절개 스판 하이웨스트 조거 밴딩 트레이닝팬츠_복플레이스.json', '쇼핑몰 · 마켓-상의-니트-[MD소장] 도리 크롭니트 4color_소솔.json', '쇼핑몰 · 마켓-바지-트레이닝_조거-[단독진행특가!_3Col]쭈리 와이드핏 밴딩 트레이닝 코튼팬츠_복플레이스.json']\n"
     ]
    }
   ],
   "source": [
    "import os\n",
    "file_path = \"./crawling/\"\n",
    "file_list = os.listdir(file_path)\n",
    "print(file_list)"
   ]
  },
  {
   "cell_type": "code",
   "execution_count": 2,
   "metadata": {},
   "outputs": [],
   "source": [
    "html = driver.page_source\n",
    "soup = BeautifulSoup(html, 'html.parser')"
   ]
  },
  {
   "cell_type": "code",
   "execution_count": 12,
   "metadata": {},
   "outputs": [
    {
     "name": "stdout",
     "output_type": "stream",
     "text": [
      "1\n",
      "2\n",
      "3\n",
      "4\n",
      "5\n"
     ]
    }
   ],
   "source": [
    "cu = 0\n",
    "for j in range(5):\n",
    "    for i in range(10):\n",
    "        try:\n",
    "            a ='https://www.brandi.co.kr' + soup.select('.list_full a')[i].get('href')\n",
    "\n",
    "        except:\n",
    "            cu+=1\n",
    "            print(cu)\n",
    "            pass                "
   ]
  },
  {
   "cell_type": "markdown",
   "metadata": {},
   "source": [
    "# 크롤링 공통"
   ]
  },
  {
   "cell_type": "code",
   "execution_count": 1,
   "metadata": {},
   "outputs": [],
   "source": [
    "from selenium import webdriver\n",
    "from bs4 import BeautifulSoup\n",
    "import re\n",
    "import sys\n",
    "import time\n",
    "driver = webdriver.Chrome('./chromedriver')\n",
    "driver.set_window_size(600,800)\n",
    "driver.implicitly_wait(3)\n",
    "driver.get('https://www.brandi.co.kr/products/18715075')\n",
    "time.sleep(3)\n",
    "html = driver.page_source\n",
    "soup = BeautifulSoup(html, 'html.parser')\n",
    "data = {}\n",
    "#크롤링할 카테고리갯수\n",
    "cate_num= 5\n",
    "how_many = 1\n",
    "sleep = 3\n",
    "brand_cate = ['/categories/all', '/categories/all/brand','/categories/all/beauty']\n",
    "\n"
   ]
  },
  {
   "cell_type": "code",
   "execution_count": 114,
   "metadata": {
    "scrolled": true
   },
   "outputs": [
    {
     "name": "stdout",
     "output_type": "stream",
     "text": [
      "{'brand_cate': '브랜드', 'category': '아우터', 'sub_category': '자켓', 'main_img': ['https://image.brandi.me/cproduct/2020/06/04/17082238_1591255536_image1_L.jpg', 'https://image.brandi.me/cproduct/2020/06/04/17082238_1591255429_image2_L.jpg', 'https://image.brandi.me/cproduct/2020/06/04/17082238_1591255431_image3_L.jpg', 'https://image.brandi.me/cproduct/2020/06/04/17082238_1591255432_image4_L.jpg', 'https://image.brandi.me/cproduct/2020/06/04/17082238_1591255434_image5_L.jpg'], 'brand_img': 'https://image.brandi.me/seller/moodglam_profile_1523930002.jpeg', 'brandname': '무드글램', 'intro': '고민은 배송만 늦출뿐 !', 'title': 'vivi 반팔자켓 린넨자켓 2col_무드글램', 'discount_rate': 0, 'price': 18700, 'sales_count': 2011, 'delivery': '브랜디 배송', 'info_text': \"[MD comment]오픈해서 입기도 멋스럽고전체를 잠궈도 스타일리쉬한느낌의반팔자켓이에요 :)색감도 밝아서어느하의나 잘어울린답니다^^패드 O(탈부착불가능)[color] 베이지 소라[fabric] 면 70 린넨 30[made in]한국[production date] 2020 S/S[size] F 위의 실측사이즈는 '단면의 길이'입니다. 참고해 주세요. 사이즈는 측정방법에 따라 1~3cm 정도 오차가 있을 수 있습니다. 제품색상은 사용자의 모니터의 해상도에 따라 실제 색상과 다소 차이가 있을 수 있습니다. 제품컷의 색상이 실제 제품 색상과 가장 비슷합니다.베이지소라디테일소라베이지PRODUCT INFO(단면/CM)사이즈총장어깨가슴소매길이소매암홀밑단free56394825162447안감있음없음기모촉감부드러움보통까실함핏감타이트정사이즈루즈두께감도톰보통얇음\", 'info_img': ['https://image.brandi.me/cproductdetail/2020/06/04/c78fc5a6cfd86b8096adaa2d64a9557f.jpeg', 'https://image.brandi.me/cproductdetail/2020/06/04/7670fb5591e45c8c706335e5b1af2420.jpeg', 'https://image.brandi.me/cproductdetail/2020/06/04/dc1b3efb92ec882769087a1710aaa394.jpeg', 'https://image.brandi.me/cproductdetail/2020/06/04/cbe5ba492d2d7f252efa5f5a2826431d.jpeg', 'https://image.brandi.me/cproductdetail/2020/06/04/0b68b48ee120a61a141f94c3ab63c4cd.jpeg', 'https://image.brandi.me/cproductdetail/2020/06/04/0db351502956d49b8ac54a77771d3d80.jpeg', 'https://image.brandi.me/cproductdetail/2020/06/04/cc5339057867fdabc07110e3405eda1e.jpeg', 'https://image.brandi.me/cproductdetail/2020/06/04/e903fcac48e293950095495378121a68.jpeg', 'https://image.brandi.me/cproductdetail/2020/06/04/59680e3edf70fb0a8e6f8c1a9cd567ff.jpeg', 'https://image.brandi.me/cproductdetail/2020/06/04/36219f03bf8777fdfad9af0fb4de89a8.jpeg', 'https://image.brandi.me/cproductdetail/2020/06/04/3c78e5b53d4d643cd6f77b32ef1e5304.jpeg', 'https://image.brandi.me/cproductdetail/2020/06/04/2057c0fe5cc1d60458063c37d4569b0c.jpeg', 'https://image.brandi.me/cproductdetail/2020/06/04/1869ad119b2f4dad12fc28cda2c5834d.jpeg', 'https://image.brandi.me/cproductdetail/2020/06/04/02b2504f56774c01e89cbc80f6e23631.jpeg', 'https://image.brandi.me/cproductdetail/2020/06/04/d8cd31383a2b22c160db82a7f17251b3.jpeg', 'https://image.brandi.me/cproductdetail/2020/06/04/5e7d1d2444015c5fea54af6db6f94b4e.jpeg', 'https://image.brandi.me/cproductdetail/2020/06/04/290150637db3f4cff661766e2d3ecad6.jpeg', 'https://image.brandi.me/cproductdetail/2020/06/04/b6019afb105810ed65896a37d4805953.jpeg', 'https://image.brandi.me/cproductdetail/2020/06/04/bf6c44b955ac503a921ad505b94acbe0.jpeg', 'https://image.brandi.me/cproductdetail/2020/06/04/ab2e2d2751529c048fc356e3fb41f339.jpeg', 'https://image.brandi.me/cproductdetail/2020/06/04/122cf9cb3decb9c7a407bc3106ed2c5b.jpeg', 'https://image.brandi.me/cproductdetail/2020/06/04/badd553881658c3d4fcdd4dc1d5dd84a.jpeg', 'https://image.brandi.me/cproductdetail/2020/06/04/14d3c5e74707813b674a0e105930ccd3.jpeg', 'https://image.brandi.me/cproductdetail/2020/06/04/6de4ef84bac9d60c266d99f2b360e11e.jpeg', 'https://image.brandi.me/cproductdetail/2020/06/04/4a552e862382786a51838e260a019ba6.jpeg', 'https://image.brandi.me/cproductdetail/2020/06/04/11d1291a796ba593064a9704b1549acd.jpeg', 'https://image.brandi.me/cproductdetail/2020/06/04/f3cd8391cdb05f07dfdf319ed53514d5.jpeg', 'https://image.brandi.me/cproductdetail/2020/06/04/46e6cbfa0c16c2fe30118c28d213872a.jpeg', 'https://image.brandi.me/cproductdetail/2020/06/04/a2d164980ab820a10c469bd153d1975b.jpeg', 'https://image.brandi.me/cproductdetail/2020/06/04/0bf564c61b02976aab6174b1b08870e1.jpeg', 'https://image.brandi.me/cproductdetail/2020/06/04/f9f4c92295ae09a2158b384e6ac83742.jpeg', 'https://image.brandi.me/cproductdetail/2020/06/04/8ebceac218eddd8075da3c0001aaaf5b.jpeg', 'https://image.brandi.me/cproductdetail/2020/06/04/a5af8ad825e4f4caa1841cd5b2be5e0b.jpeg', 'https://image.brandi.me/cproductdetail/2020/06/04/eeee7a4e05d98cc3ecae058f416141b1.jpeg', 'https://image.brandi.me/cproductdetail/2020/06/04/c6abf3a9704359c799126d933fdbcf54.jpeg', 'https://image.brandi.me/cproductdetail/2020/06/04/7c92bc51e3bb4d3b878cf2d4b7ab9ceb.jpeg', 'https://image.brandi.me/cproductdetail/2020/06/04/b5379e9d16b72537cfd58e45bd2bad9e.jpeg', 'https://image.brandi.me/cproductdetail/2020/06/04/17db59c5fb1cf6114212dc1eec9acdf4.jpeg', 'https://image.brandi.me/cproductdetail/2020/06/04/71e3ef71da2f589236a14ebbbd684d8f.jpeg', 'https://image.brandi.me/cproductdetail/2020/06/04/34382c48ee9fe8cd89d5891948bc9da7.jpeg', 'https://image.brandi.me/cproductdetail/2020/06/04/46acbcfe32632b658a580111e44ad92f.jpeg', 'https://image.brandi.me/cproductdetail/2020/06/04/4a1ac9cb9fc675427d9a9f3384f954e3.jpeg', 'https://image.brandi.me/cproductdetail/2020/06/04/06a5caf4d74ae2c54f7e41c70e35df06.jpeg', 'https://image.brandi.me/cproductdetail/2020/06/04/8e1391227b2f3a270fc493be63f0ad75.jpeg', 'https://image.brandi.me/category/image/img_product_jacket.jpg'], 'company_name': '주식회사 브랜디', 'representative': '서정민', 'license_num': '220-88-93187', 'mail_order_num': '000000000000000000000000000000', 'biz_location': '04535 ) 서울 중구 소공로 70 (충무로1가, 서울중앙우체국청사)브랜디 물류센터', 'business_hour': '주중 10:00 AM ~ 10:00 PM, 주말 및 공휴일 휴무', 'company_email': 'brandiffcs@brandi.co.kr', 'company_call': '1577-3452', 'model_size': '키 : 163cm\\n상의 사이즈 : 55\\n하의 사이즈 : 26\\n발 사이즈 : 240mm\\n', 'shipping_info': '브랜디배송 고객센터 운영시간\\n일반배송 - 10시 ~ 17시\\n하루배송 - 10시 ~ 22시\\n18시 이후에는 하루배송 문의만 가능합니다.\\n주말, 공휴일 휴무 /점심시간 12시30분~13시30분 /저녁시간 17시~18시\\n<일반배송>\\n택배사는 우체국 택배를 이용하고 있습니다.\\n도서산간 지역의 배송비 추가는 별도로 없습니다.\\n결제 후 평균 2~5일 소요될 수 있으며(주말, 공휴일 제외) 거래처 상황에 따라 변동될 수 있습니다.\\n주문 급증, 인기 상품의 경우 기본 배송기간 이상 소요될 수 있는 점 양해 부탁드립니다.\\n기본 배송일 이상 혹은 품절된 상품은 개별 연락 (알림톡, 문자) 드리고 있습니다.\\n대체 옵션이 없는 품절 상품은 빠른 처리를 도와드리기 위해 알림톡 연락 후 주문 취소 처리를 진행해드리고 있습니다.\\n<하루배송>\\n새벽 도착/저녁 도착은 협력업체를 이용하고 있습니다.\\n배송지가 서울인 경우 하루배송 상품 2개 이상 주문 시 새벽 도착/저녁 도착 서비스 이용 가능합니다.\\n서울이 아닐 경우 최대 2,000포인트 적립 가능하며 오후 2시 이전 결제 완료해 주시면 당일 출고 가능합니다!\\n▷새벽 도착\\n당일 오전 8시~오후 8시59분 결제 시 다음날 오전 7시까지 도착 보장\\n▷저녁 도착\\n전일 오후 9시~당일 오전 7시59분 결제 시 당일 오후 8시까지 도착 보장\\n배송 과정에서 특이사항 발생될 경우 알림톡 전송 도와드리고 있습니다.\\n', 'exchange_refund_info': \"상품가치가 현저히 훼손된 경우를 제외한 모든 사유에 대해 환불이 가능합니다.\\n환불요청 가능 기간은 상품 수령 후(배송완료 시점으로부터) 7일 이내입니다.\\n교환/환불이 발생하는 경우 그 원인을 제공한 자가 배송비를 부담합니다.\\n  - 고객변심 : 최초 배송비+반품 배송비+(교환의 경우) 교환 배송비는 고객이 부담\\n  - 판매자귀책 : 최초 배송비+반품 배송비+(교환의 경우) 교환 배송비는 판매자가 부담\\n다음의 경우는 예외적으로 교환 및 환불이 불가능합니다.\\n  - 상품가치가 소비자의 귀책사유로 인해 현저하게 감소한 경우\\n  - 소비자 과실로 인한 옷의 변색(예 : 착색, 화장품, 오염 등)\\n  - 착용으로 인한 니트류 상품의 늘어남 발생 및 가죽 제품의 주름 발생\\n  - 기타 착용 흔적 : 택 제거 등\\n  - 구매확정된 주문의 경우\\n  - 귀금속류의 경우는 소비자분쟁조정기준에 의거 교환만 가능합니다.\\n      (단, 함량미달의 경우에는 환불이 가능함)\\n브랜디배송 제품은 환불 요청 접수 후 평일 기준 1~3일 내로 자동 회수 접수 및 기사님의 회수 방문이 진행됩니다.\\n판매자배송 제품과 합반품은 불가능하며 배송비 부담 후 반송될 수 있습니다.\\n교환/반품 신청 후 장기간(2주 이상) 상품이 저희 측에 도착하지 않을 경우 처리가 어려울 수 있습니다.\\n[단순 변심]\\n단순 변심의 교환이나 반품의 경우 왕복 택배비(5,000원)를 아래의 계좌로 입금해 주셔야 합니다.\\n[계좌 정보 :입금 계좌 : 022-105089-04-069 기업은행 / 주식회사 브랜디]\\n*택배비 입금 시 성함과 휴대폰 뒷자리를(4자리)(ex-홍길동 5349) 입력하시면 더 빠른 처리가 가능합니다.\\n상품의 하자 및 오배송으로 인한 교환/반품의 경우는 택배비가 발생되지 않습니다.\\n상품 하자가 있는 경우에는 상품을 공급받은 날부터 3개월 이내로서, 그 사실을 안 날 또는 알 수 있었던 날부터 30일 이내 청약철회가 가능합니다.\\n비키니/속옷 상품 반품 시, 상품에 부착 되어 있는 위생테이프 제거 시 반품 불가합니다.\\n상의 상품 반품 시, 캡 미동봉시 반품 불가합니다. (동봉 되어 있는 상품인 경우)\\n[교환∙반품 방법]\\n*동봉된 교환∙반품 신청서를 참조하세요\\n[택배사 수거 접수 방법]\\n합반품 및 직접 반송하실 경우 환불요청 버튼 누르기 전, 꼭! Q&A나 고객센터(1577-3452)로 말씀해 주셔야 중복접수가 되지 않습니다.\\n직접 반송하실 경우 하단의 배송센터 주소지로 보내주셔야 처리가 가능하며, 다른 주소지로 보내실 경우 반송처리되실 수 있습니다.\\n타 택배 이용 시 반품 택배비는 고객님께서 선불로 부담하신 후 2,500원을 입금해 주셔야 하며,\\n불량 및 오배송의 경우에도 직접 부담하셔야 합니다.\\n(추후 '환불요청'이 되어있지 않은 상품 도착 시 반송될 수 있으니 꼭 '환불요청' 상태로 변경해 주시기 바랍니다)\\n고객센터(환불 및 배송문의) 1577-3452\\n영업시간 10:00-17:00 점심시간 12:30-13:30 (주말, 공휴일 제외)\\n배송비 입금 계좌 : 0 2 2 - 1 0 5 0 8 9 - 0 4 - 0 6 9 기업은행 / 주식회사 브랜디\\n교환/반품 주소지 서울 중구 소공로 70 브랜디 물류센터\\n\"}\n"
     ]
    },
    {
     "ename": "SystemExit",
     "evalue": "",
     "output_type": "error",
     "traceback": [
      "An exception has occurred, use %tb to see the full traceback.\n",
      "\u001b[0;31mSystemExit\u001b[0m\n"
     ]
    }
   ],
   "source": [
    "html = driver.page_source\n",
    "soup = BeautifulSoup(html, 'html.parser')\n",
    "\n",
    "data = {}\n",
    "#크롤링할 카테고리갯수\n",
    "cate_num= 5\n",
    "how_many = 20\n",
    "sleep = 3\n",
    "brand_cate = ['/categories/all', '/categories/all/brand','/categories/all/beauty']\n",
    "\n",
    "\n",
    "for i in brand_cate:\n",
    "    #브랜드 카테고리\n",
    "    data['brand_cate'] = re.findall(r'(.*)\\n',soup.select('.menu_title')[1].get_text())[0]\n",
    "    link = 'https://www.brandi.co.kr' + i\n",
    "    driver.get(link)\n",
    "    time.sleep(sleep)\n",
    "    \n",
    "    #아우터 클릭로 스왑\n",
    "    for j in range(cate_num):\n",
    "        button = driver.find_element_by_xpath(f\"//ul[@id='sub_gnb']/li[{j+1}]/a\")\n",
    "        driver.execute_script(\"arguments[0].click();\", button)\n",
    "        soup = BeautifulSoup(driver.page_source, 'html.parser')\n",
    "        #카테고리\n",
    "        data['category'] = soup.select('li[data-v-1cf382de] a.active span')[0].get_text()\n",
    "        sub_cate = soup.select('tr[data-v-506e5306] td')\n",
    "        for k in range(1,len(sub_cate)):\n",
    "            #서브카테고리\n",
    "            data['sub_category'] = sub_cate[k].get_text().strip()\n",
    "            #서브카테고리 클릭\n",
    "            button = driver.find_element_by_xpath(f\"//tr[@data-v-506e5306]/td[{k+1}]\")\n",
    "            driver.execute_script(\"arguments[0].click();\", button)\n",
    "            \n",
    "            #서브카테고리에서 제품 입장\n",
    "            for l in range(how_many):\n",
    "                soup = BeautifulSoup(driver.page_source, 'html.parser')\n",
    "                link = 'https://www.brandi.co.kr' + soup.select('.list_full a')[l].get('href')\n",
    "                \n",
    "                #제품 입장\n",
    "                driver.get(link)\n",
    "                time.sleep(sleep)\n",
    "                soup = BeautifulSoup(driver.page_source, 'html.parser')\n",
    "\n",
    "\n",
    "                #메인 이미지\n",
    "                img = soup.select_one('.swiper-wrapper').select('[data-thumb]')\n",
    "                data['main_img'] = [n['data-thumb'] for n in img] \n",
    "                #브랜드 이미지\n",
    "                brand_img = soup.select_one('.seller-info div')\n",
    "                data['brand_img'] = re.findall(r'url[(][\"](.*)[\"]',brand_img['style'])[0]\n",
    "                #브랜드 이름\n",
    "                data['brandname'] = soup.select_one('.info strong.name').get_text()\n",
    "                #브랜드 소개\n",
    "                data['intro'] = soup.select_one('.info p.txt').get_text()\n",
    "                #제품 이름\n",
    "                data['title'] = soup.select_one('.detail_title').get_text()\n",
    "                #할인율\n",
    "                try:\n",
    "                    discount = soup.select_one('strong.dc').get_text()\n",
    "                    data['discount_rate'] = int(re.findall(r'\\d*',discount)[0].replace('%',''))\n",
    "                except:\n",
    "                    data['discount_rate'] =  0\n",
    "                #제품가격\n",
    "                try:\n",
    "                    data['price'] = int(soup.select_one('.detail_price .cost .number').get_text().replace(',',''))\n",
    "                except:\n",
    "                    data['price'] = int(soup.select_one('.detail_price .price .number').get_text().replace(',',''))\n",
    "                #판매량\n",
    "                try :\n",
    "                    count = soup.select_one('.total-sales').get_text()\n",
    "                    try:\n",
    "                        Purchase_count = int(re.findall(r'\\d*[,]\\d*',count)[0].replace(',',''))\n",
    "                    except:\n",
    "                        Purchase_count = int(re.findall(r'\\d*',count)[0])\n",
    "                except:\n",
    "                    Purchase_count = 0\n",
    "                data['sales_count'] = Purchase_count\n",
    "                #배송정보\n",
    "                data['delivery'] = soup.select_one('.conts-more dd').get_text()\n",
    "                #product_text\n",
    "                data['info_text'] = soup.select_one('#info_container_1').get_text().replace('\\n', '')\n",
    "                #product_img\n",
    "                img = soup.select('#info_container_1 img')\n",
    "                data['info_img'] = [n['src'] for n in img]\n",
    "\n",
    "                #스토어 정보 - 상호명,대표자,사업자등록번호,통신판매업번호,사업장소재지\n",
    "                info = soup.select('p.txt-info')\n",
    "                slist = ['company_name','representative','license_num','mail_order_num','biz_location']\n",
    "                for num,field in enumerate(slist):\n",
    "                    var = info[num].get_text().replace('\\n',\"\")\n",
    "                    data[field] = re.findall(r'[:]\\s*(.*)',var)[0].rstrip()\n",
    "                #스토어 고객센터 - 영업시간,이메일,전화번호\n",
    "                data['business_hour'] = soup.select('p.txt-info')[5].get_text()\n",
    "                slist = ['company_email','company_call']\n",
    "                for num,field in enumerate(slist):\n",
    "                    var = info[num+6].get_text().replace('\\n',\"\")\n",
    "                    data[field] = re.findall(r'[:]\\s*(.*)',var)[0].rstrip()\n",
    "                #모델 사이즈 정보\n",
    "                if soup.find('h4', text=\"[ 모델 사이즈 정보 ]\"):\n",
    "                    for l in range(8,12):\n",
    "                        data['model_size'] = data.get('model_size','') + info[l].get_text().replace('\\n',\"\") + '\\n'\n",
    "                #배송정보     \n",
    "                var = soup.select('h4')[4].parent.select('[data-v-4ced9216]')\n",
    "                count = 0\n",
    "                page = 1\n",
    "                for l in var:\n",
    "\n",
    "                    if re.match('<h4',str(l)):\n",
    "\n",
    "                        if count == page :\n",
    "                            break\n",
    "                        count+=1\n",
    "                        continue\n",
    "                    if count == page:\n",
    "                        data['shipping_info'] = data.get('shipping_info','') + l.get_text() + '\\n'\n",
    "\n",
    "                #교환/환불정보\n",
    "                count = 0\n",
    "                page=2\n",
    "                for l in var:\n",
    "\n",
    "                    if re.match('<h4',str(l)):\n",
    "\n",
    "                        if count == page :\n",
    "                            break\n",
    "                        count+=1\n",
    "                        continue\n",
    "                    if count == page:\n",
    "                        data['exchange_refund_info'] = data.get('exchange_refund_info','') + l.get_text() + '\\n'\n",
    "\n",
    "\n",
    "                #뒤로가기\n",
    "                driver.back()\n",
    "                time.sleep(sleep)\n",
    "\n",
    "                print(data)\n",
    "                sys.exit()\n",
    "    driver.back()\n",
    "    time.sleep(sleep)\n",
    "#         driver.execute_script(\"arguments[0].click();\", button)\n",
    "#         html = driver.page_source\n",
    "#         soup = BeautifulSoup(html, 'html.parser')"
   ]
  },
  {
   "cell_type": "code",
   "execution_count": 128,
   "metadata": {},
   "outputs": [],
   "source": [
    "button = driver.find_element_by_xpath(f\"//ul[@id='sub_gnb']/li[{j + 1}]/a\")\n",
    "driver.execute_script(\"arguments[0].click();\", button)"
   ]
  },
  {
   "cell_type": "code",
   "execution_count": 123,
   "metadata": {},
   "outputs": [],
   "source": [
    "import json\n",
    "import os\n",
    "\n",
    "with open('./crawling/result.json', 'w+') as json_file:\n",
    "    json.dump(data, json_file)"
   ]
  },
  {
   "cell_type": "code",
   "execution_count": 134,
   "metadata": {},
   "outputs": [],
   "source": [
    "button = driver.find_element_by_xpath(\"//ul[@id='sub_gnb']/li[2]/a\")\n",
    "driver.execute_script(\"arguments[0].click();\", button)\n",
    "#             button = driver.find_element_by_xpath(f\"//ul[@id='sub_gnb']/li[{j + 1}]/a\")\n",
    "#             driver.execute_script(\"arguments[0].click();\", button)"
   ]
  },
  {
   "cell_type": "code",
   "execution_count": 2,
   "metadata": {},
   "outputs": [],
   "source": [
    "soup = BeautifulSoup(driver.page_source, 'html.parser')"
   ]
  },
  {
   "cell_type": "code",
   "execution_count": 6,
   "metadata": {},
   "outputs": [
    {
     "name": "stdout",
     "output_type": "stream",
     "text": [
      "뷰티\n"
     ]
    }
   ],
   "source": [
    "a = re.findall(r'(.*)\\n',soup.select('.menu_title')[2].get_text())[0]\n",
    "print(a)"
   ]
  },
  {
   "cell_type": "code",
   "execution_count": 183,
   "metadata": {},
   "outputs": [
    {
     "name": "stdout",
     "output_type": "stream",
     "text": [
      "['전체', '자켓', '가디건', '코트', '점퍼', '패딩', '무스탕/퍼', '기타']\n"
     ]
    }
   ],
   "source": [
    "sub_cate = soup.select('tr[data-v-506e5306] td')\n",
    "        # print(sub_cate)\n",
    "a = list()\n",
    "for i in sub_cate:\n",
    "#     print(i)\n",
    "    \n",
    "    b = i.get_text().strip()\n",
    "    a.append(b)\n",
    "print([ v for v in a if v])\n",
    "# print(a)\n",
    "data['sub_category'] = sub_cate[k].get_text().strip()\n",
    "print(data')\n",
    "print\n",
    "for i in range(1, len(sub_cate)):\n",
    "    x = i//3+1\n",
    "    y = i%3+1\n",
    "    button = driver.find_element_by_xpath(f\"//tbody[@data-v-506e5306]/tr[{x}]/td[{y}]\")\n",
    "    driver.execute_script(\"arguments[0].click();\", button)\n",
    "    print(x,y)\n",
    "    time.sleep(1)"
   ]
  },
  {
   "cell_type": "code",
   "execution_count": 71,
   "metadata": {},
   "outputs": [],
   "source": [
    "k=1\n",
    "button = driver.find_element_by_xpath(f\"//tr[@data-v-506e5306]/td[{k+1}]\")\n",
    "driver.execute_script(\"arguments[0].click();\", button)"
   ]
  },
  {
   "cell_type": "code",
   "execution_count": 207,
   "metadata": {
    "scrolled": true
   },
   "outputs": [
    {
     "name": "stdout",
     "output_type": "stream",
     "text": [
      "[<h4 class=\"txt-h1\" data-v-4ced9216=\"\">[스토어 정보]</h4>, <p class=\"txt-info\" data-v-4ced9216=\"\">\n",
      "        상호명 :\n",
      "        비기닝리테일(주)\n",
      "      </p>, <p class=\"txt-info\" data-v-4ced9216=\"\">\n",
      "        대표자 :\n",
      "        문정인\n",
      "      </p>, <p class=\"txt-info\" data-v-4ced9216=\"\">\n",
      "        사업자등록번호 :\n",
      "        119-86-84860\n",
      "      </p>, <p class=\"txt-info\" data-v-4ced9216=\"\">\n",
      "        통신판매업번호 :\n",
      "        2014-서울마포-0750\n",
      "      </p>, <p class=\"txt-info\" data-v-4ced9216=\"\">\n",
      "        사업장소재지 :\n",
      "        05048 ) 서울 광진구 강변역로 2 (구의동, 광진우체국)서울광진우체국 C동 3층 광진우체국소포실\n",
      "      </p>, <h4 class=\"txt-h1\" data-v-4ced9216=\"\">[ 스토어 고객센터 ]</h4>, <p class=\"txt-info\" data-v-4ced9216=\"\">주중 10:00 AM ~ 5:00 PM, 주말 및 공휴일 휴무</p>, <p class=\"txt-info\" data-v-4ced9216=\"\">이메일 : klc93@beginning.kr</p>, <p class=\"txt-info\" data-v-4ced9216=\"\">전화번호 : 1599-2219</p>]\n"
     ]
    }
   ],
   "source": [
    "soup = BeautifulSoup(driver.page_source, 'html.parser')\n",
    "var = soup.select('h4')[1].parent.select('[data-v-4ced9216]')\n",
    "print(var)\n",
    "# count = 0\n",
    "# page = 1\n",
    "# for l in var:\n",
    "\n",
    "#     if re.match('<h4', str(l)):\n",
    "\n",
    "#         if count == page:\n",
    "#             break\n",
    "#         count += 1\n",
    "#         continue\n",
    "#     if count == page:\n",
    "#         test['shipping_info'] = data.get('shipping_info', '') + l.get_text() + '\\n'\n",
    "# print(test)\n"
   ]
  },
  {
   "cell_type": "code",
   "execution_count": 226,
   "metadata": {},
   "outputs": [
    {
     "name": "stdout",
     "output_type": "stream",
     "text": [
      "   1) 공휴일을 제외한 평균 배송 기간\n",
      " \n",
      "       ▶ 의류: 2~5일\n",
      "       ▶ 신발, 가방, 엑세서리 등의 주문 제작 상품: 2~7일\n",
      "       ▶ 자체 제작 or 핸드메이드 상품: 3~10일\n",
      "       ▶ 사전 예약 상품: 고지일에 따라 다름\n",
      "   2) 배송이 지연되는 경우\n",
      " \n",
      "       ▶ 출고 전 마지막 검수 단계에서 미흡한 점이 확인되어, 제작처로 재주문을 진행할 경우\n",
      "       ▶ 상품 제작 과정에서 원단 입고 지연, 기상 악화 등의 예상치 못 한 상황이 발생한 경우\n",
      "       ▶ 명절, 연말 등 택배사의 물량 폭주로 택배사의 배송 자체가 지연되는 경우\n",
      "상품가치가 현저히 훼손된 경우를 제외한 모든 사유에 대해 환불이 가능합니다.\n",
      "환불요청 가능 기간은 상품 수령 후(배송완료 시점으로부터) 7일 이내입니다.\n",
      "교환/환불이 발생하는 경우 그 원인을 제공한 자가 배송비를 부담합니다.\n",
      "  - 고객변심 : 최초 배송비+반품 배송비+(교환의 경우) 교환 배송비는 고객이 부담\n",
      "  - 판매자귀책 : 최초 배송비+반품 배송비+(교환의 경우) 교환 배송비는 판매자가 부담\n",
      "다음의 경우는 예외적으로 교환 및 환불이 불가능합니다.\n",
      "  - 상품가치가 소비자의 귀책사유로 인해 현저하게 감소한 경우\n",
      "  - 소비자 과실로 인한 옷의 변색(예 : 착색, 화장품, 오염 등)\n",
      "  - 착용으로 인한 니트류 상품의 늘어남 발생 및 가죽 제품의 주름 발생\n",
      "  - 기타 착용 흔적 : 택 제거 등\n",
      "  - 구매확정된 주문의 경우\n",
      "  - 귀금속류의 경우는 소비자분쟁조정기준에 의거 교환만 가능합니다.\n",
      "      (단, 함량미달의 경우에는 환불이 가능함)\n",
      "소비자보호법 및 전자상거래법을 기반한 환불보장재를 운영합니다.\n"
     ]
    }
   ],
   "source": [
    "a = soup.select('.detail_cs-container div')[2].select('p')\n",
    "for i in a:\n",
    "    print(i.get_text())"
   ]
  },
  {
   "cell_type": "code",
   "execution_count": null,
   "metadata": {
    "scrolled": false
   },
   "outputs": [],
   "source": [
    "\n",
    "\n",
    "\n",
    "for i in range(3):\n",
    "    #메인카테고리\n",
    "    data['category'] = re.findall(r'(.*)\\n',soup.select('.menu_title')[i].get_text())[0]\n",
    "    sub_cate = soup.select('ul[data-v-867c5692]')[i].select('li')\n",
    "    for j in range(1,len(sub_cate)):\n",
    "        #서브카테고리\n",
    "        data['sub_category'] = sub_cate[j].get_text()\n",
    "        link = 'https://www.brandi.co.kr' + sub_cate[j].a.get('href')\n",
    "        driver.get(link)\n",
    "        time.sleep(sleep)\n",
    "        soup = BeautifulSoup(driver.page_source, 'html.parser')\n",
    "        for k in range(how_many):\n",
    "            p_link = 'https://www.brandi.co.kr' + soup.select('.list_full a')[k].get('href')\n",
    "            driver.get(p_link)\n",
    "            time.sleep(sleep)\n",
    "            soup = BeautifulSoup(driver.page_source, 'html.parser')\n",
    "            \n",
    "            #제품 입장\n",
    "            \n",
    "            #메인 이미지\n",
    "            img = soup.select_one('.swiper-wrapper').select('[data-thumb]')\n",
    "            data['main_img'] = [n['data-thumb'] for n in img] \n",
    "            #브랜드 이미지\n",
    "            brand_img = soup.select_one('.seller-info div')\n",
    "            data['brand_img'] = re.findall(r'url[(][\"](.*)[\"]',brand_img['style'])[0]\n",
    "            #브랜드 이름\n",
    "            data['brandname'] = soup.select_one('.info strong.name').get_text()\n",
    "            #브랜드 소개\n",
    "            data['intro'] = soup.select_one('.info p.txt').get_text()\n",
    "            #제품 이름\n",
    "            data['title'] = soup.select_one('.detail_title').get_text()\n",
    "            #할인율\n",
    "            try:\n",
    "                discount = soup.select_one('strong.dc').get_text()\n",
    "                data['discount_rate'] = int(re.findall(r'\\d*',discount)[0].replace('%',''))\n",
    "            except:\n",
    "                data['discount_rate'] =  0\n",
    "            #제품가격\n",
    "            try:\n",
    "                data['price'] = int(soup.select_one('.detail_price .cost .number').get_text().replace(',',''))\n",
    "            except:\n",
    "                data['price'] = int(soup.select_one('.detail_price .price .number').get_text().replace(',',''))\n",
    "            #판매량\n",
    "            try :\n",
    "                count = soup.select_one('.total-sales').get_text()\n",
    "                try:\n",
    "                    Purchase_count = int(re.findall(r'\\d*[,]\\d*',count)[0].replace(',',''))\n",
    "                except:\n",
    "                    Purchase_count = int(re.findall(r'\\d*',count)[0])\n",
    "            except:\n",
    "                Purchase_count = 0\n",
    "            data['sales_count'] = Purchase_count\n",
    "            #배송정보\n",
    "            data['delivery'] = soup.select_one('.conts-more dd').get_text()\n",
    "            #product_text\n",
    "            data['info_text'] = soup.select_one('#info_container_1').get_text().replace('\\n', '')\n",
    "            #product_img\n",
    "            img = soup.select('#info_container_1 img')\n",
    "            data['info_img'] = [n['src'] for n in img]\n",
    "            \n",
    "            #스토어 정보 - 상호명,대표자,사업자등록번호,통신판매업번호,사업장소재지\n",
    "            info = soup.select('p.txt-info')\n",
    "            slist = ['company_name','representative','license_num','mail_order_num','biz_location']\n",
    "            for num,field in enumerate(slist):\n",
    "                var = info[num].get_text().replace('\\n',\"\")\n",
    "                data[field] = re.findall(r'[:]\\s*(.*)',var)[0].rstrip()\n",
    "            #스토어 고객센터 - 영업시간,이메일,전화번호\n",
    "            data['business_hour'] = soup.select('p.txt-info')[5].get_text()\n",
    "            slist = ['company_email','company_call']\n",
    "            for num,field in enumerate(slist):\n",
    "                var = info[num+6].get_text().replace('\\n',\"\")\n",
    "                data[field] = re.findall(r'[:]\\s*(.*)',var)[0].rstrip()\n",
    "            #모델 사이즈 정보\n",
    "            if soup.find('h4', text=\"[ 모델 사이즈 정보 ]\"):\n",
    "                for l in range(8,12):\n",
    "                    data['model_size'] = data.get('model_size','') + info[l].get_text().replace('\\n',\"\") + '\\n'\n",
    "            #배송정보     \n",
    "            var = soup.select('h4')[4].parent.select('[data-v-4ced9216]')\n",
    "            count = 0\n",
    "            page = 1\n",
    "            for l in var:\n",
    "\n",
    "                if re.match('<h4',str(l)):\n",
    "\n",
    "                    if count == page :\n",
    "                        break\n",
    "                    count+=1\n",
    "                    continue\n",
    "                if count == page:\n",
    "                    data['shipping_info'] = data.get('shipping_info','') + l.get_text() + '\\n'\n",
    "                    \n",
    "            #교환/환불정보\n",
    "            count = 0\n",
    "            page=2\n",
    "            for l in var:\n",
    "\n",
    "                if re.match('<h4',str(l)):\n",
    "\n",
    "                    if count == page :\n",
    "                        break\n",
    "                    count+=1\n",
    "                    continue\n",
    "                if count == page:\n",
    "                    data['exchange_refund_info'] = data.get('exchange_refund_info','') + l.get_text() + '\\n'\n",
    "\n",
    "\n",
    "            #뒤로가기\n",
    "            driver.back()\n",
    "            time.sleep(sleep)\n",
    "            \n",
    "            print(data)\n",
    "            sys.exit()"
   ]
  },
  {
   "cell_type": "markdown",
   "metadata": {},
   "source": [
    "# 크롤링 부품"
   ]
  },
  {
   "cell_type": "code",
   "execution_count": 1,
   "metadata": {},
   "outputs": [],
   "source": [
    "from selenium import webdriver\n",
    "from bs4 import BeautifulSoup\n",
    "import re\n",
    "import sys\n",
    "driver = webdriver.Chrome('./chromedriver')\n",
    "driver.set_window_size(600,800)\n",
    "driver.implicitly_wait(3)\n",
    "driver.get('https://www.brandi.co.kr/products/17022772')\n"
   ]
  },
  {
   "cell_type": "code",
   "execution_count": 2,
   "metadata": {},
   "outputs": [],
   "source": [
    "html = driver.page_source\n",
    "soup = BeautifulSoup(html, 'html.parser')"
   ]
  },
  {
   "cell_type": "code",
   "execution_count": 26,
   "metadata": {
    "scrolled": false
   },
   "outputs": [
    {
     "name": "stdout",
     "output_type": "stream",
     "text": [
      "['https://mixxmix.com/web/product/mixxmix/2020/HEAD/20200520HEARTHEAD.jpg']\n",
      "['https://mixxmix.com/web/product/mixxmix/2020/HEAD/20200520HEARTHEAD.jpg', 'https://mixxmix.com/web/product/mixxmix/2020/05/20/MASHA/MASHA%20(31).jpg']\n",
      "['https://mixxmix.com/web/product/mixxmix/2020/HEAD/20200520HEARTHEAD.jpg', 'https://mixxmix.com/web/product/mixxmix/2020/05/20/MASHA/MASHA%20(31).jpg', 'https://mixxmix.com/web/product/mixxmix/2020/05/20/MASHA/MASHA%20(32).jpg']\n",
      "['https://mixxmix.com/web/product/mixxmix/2020/HEAD/20200520HEARTHEAD.jpg', 'https://mixxmix.com/web/product/mixxmix/2020/05/20/MASHA/MASHA%20(31).jpg', 'https://mixxmix.com/web/product/mixxmix/2020/05/20/MASHA/MASHA%20(32).jpg', 'https://mixxmix.com/web/product/mixxmix/2020/05/20/MASHA/MASHA%20(33).jpg']\n",
      "['https://mixxmix.com/web/product/mixxmix/2020/HEAD/20200520HEARTHEAD.jpg', 'https://mixxmix.com/web/product/mixxmix/2020/05/20/MASHA/MASHA%20(31).jpg', 'https://mixxmix.com/web/product/mixxmix/2020/05/20/MASHA/MASHA%20(32).jpg', 'https://mixxmix.com/web/product/mixxmix/2020/05/20/MASHA/MASHA%20(33).jpg', 'https://mixxmix.com/web/product/mixxmix/2020/05/20/MASHA/MASHA%20(34).jpg']\n",
      "['https://mixxmix.com/web/product/mixxmix/2020/HEAD/20200520HEARTHEAD.jpg', 'https://mixxmix.com/web/product/mixxmix/2020/05/20/MASHA/MASHA%20(31).jpg', 'https://mixxmix.com/web/product/mixxmix/2020/05/20/MASHA/MASHA%20(32).jpg', 'https://mixxmix.com/web/product/mixxmix/2020/05/20/MASHA/MASHA%20(33).jpg', 'https://mixxmix.com/web/product/mixxmix/2020/05/20/MASHA/MASHA%20(34).jpg', 'https://mixxmix.com/web/product/mixxmix/2020/05/20/MASHA/MASHA%20(35).jpg']\n",
      "['https://mixxmix.com/web/product/mixxmix/2020/HEAD/20200520HEARTHEAD.jpg', 'https://mixxmix.com/web/product/mixxmix/2020/05/20/MASHA/MASHA%20(31).jpg', 'https://mixxmix.com/web/product/mixxmix/2020/05/20/MASHA/MASHA%20(32).jpg', 'https://mixxmix.com/web/product/mixxmix/2020/05/20/MASHA/MASHA%20(33).jpg', 'https://mixxmix.com/web/product/mixxmix/2020/05/20/MASHA/MASHA%20(34).jpg', 'https://mixxmix.com/web/product/mixxmix/2020/05/20/MASHA/MASHA%20(35).jpg', 'https://mixxmix.com/web/product/mixxmix/2020/05/20/MASHA/MASHA%20(36).jpg']\n",
      "['https://mixxmix.com/web/product/mixxmix/2020/HEAD/20200520HEARTHEAD.jpg', 'https://mixxmix.com/web/product/mixxmix/2020/05/20/MASHA/MASHA%20(31).jpg', 'https://mixxmix.com/web/product/mixxmix/2020/05/20/MASHA/MASHA%20(32).jpg', 'https://mixxmix.com/web/product/mixxmix/2020/05/20/MASHA/MASHA%20(33).jpg', 'https://mixxmix.com/web/product/mixxmix/2020/05/20/MASHA/MASHA%20(34).jpg', 'https://mixxmix.com/web/product/mixxmix/2020/05/20/MASHA/MASHA%20(35).jpg', 'https://mixxmix.com/web/product/mixxmix/2020/05/20/MASHA/MASHA%20(36).jpg', 'https://mixxmix.com/web/product/mixxmix/2020/05/20/MASHA/MASHA%20(37).jpg']\n",
      "['https://mixxmix.com/web/product/mixxmix/2020/HEAD/20200520HEARTHEAD.jpg', 'https://mixxmix.com/web/product/mixxmix/2020/05/20/MASHA/MASHA%20(31).jpg', 'https://mixxmix.com/web/product/mixxmix/2020/05/20/MASHA/MASHA%20(32).jpg', 'https://mixxmix.com/web/product/mixxmix/2020/05/20/MASHA/MASHA%20(33).jpg', 'https://mixxmix.com/web/product/mixxmix/2020/05/20/MASHA/MASHA%20(34).jpg', 'https://mixxmix.com/web/product/mixxmix/2020/05/20/MASHA/MASHA%20(35).jpg', 'https://mixxmix.com/web/product/mixxmix/2020/05/20/MASHA/MASHA%20(36).jpg', 'https://mixxmix.com/web/product/mixxmix/2020/05/20/MASHA/MASHA%20(37).jpg', 'https://mixxmix.com/web/product/mixxmix/2020/05/20/MASHA/MASHA%20(38).jpg']\n",
      "['https://mixxmix.com/web/product/mixxmix/2020/HEAD/20200520HEARTHEAD.jpg', 'https://mixxmix.com/web/product/mixxmix/2020/05/20/MASHA/MASHA%20(31).jpg', 'https://mixxmix.com/web/product/mixxmix/2020/05/20/MASHA/MASHA%20(32).jpg', 'https://mixxmix.com/web/product/mixxmix/2020/05/20/MASHA/MASHA%20(33).jpg', 'https://mixxmix.com/web/product/mixxmix/2020/05/20/MASHA/MASHA%20(34).jpg', 'https://mixxmix.com/web/product/mixxmix/2020/05/20/MASHA/MASHA%20(35).jpg', 'https://mixxmix.com/web/product/mixxmix/2020/05/20/MASHA/MASHA%20(36).jpg', 'https://mixxmix.com/web/product/mixxmix/2020/05/20/MASHA/MASHA%20(37).jpg', 'https://mixxmix.com/web/product/mixxmix/2020/05/20/MASHA/MASHA%20(38).jpg', 'https://mixxmix.com/web/product/mixxmix/2020/05/20/MASHA/MASHA%20(39).jpg']\n",
      "['https://mixxmix.com/web/product/mixxmix/2020/HEAD/20200520HEARTHEAD.jpg', 'https://mixxmix.com/web/product/mixxmix/2020/05/20/MASHA/MASHA%20(31).jpg', 'https://mixxmix.com/web/product/mixxmix/2020/05/20/MASHA/MASHA%20(32).jpg', 'https://mixxmix.com/web/product/mixxmix/2020/05/20/MASHA/MASHA%20(33).jpg', 'https://mixxmix.com/web/product/mixxmix/2020/05/20/MASHA/MASHA%20(34).jpg', 'https://mixxmix.com/web/product/mixxmix/2020/05/20/MASHA/MASHA%20(35).jpg', 'https://mixxmix.com/web/product/mixxmix/2020/05/20/MASHA/MASHA%20(36).jpg', 'https://mixxmix.com/web/product/mixxmix/2020/05/20/MASHA/MASHA%20(37).jpg', 'https://mixxmix.com/web/product/mixxmix/2020/05/20/MASHA/MASHA%20(38).jpg', 'https://mixxmix.com/web/product/mixxmix/2020/05/20/MASHA/MASHA%20(39).jpg', 'https://mixxmix.com/web/product/mixxmix/2020/05/20/MASHA/MASHA%20(40).jpg']\n",
      "['https://mixxmix.com/web/product/mixxmix/2020/HEAD/20200520HEARTHEAD.jpg', 'https://mixxmix.com/web/product/mixxmix/2020/05/20/MASHA/MASHA%20(31).jpg', 'https://mixxmix.com/web/product/mixxmix/2020/05/20/MASHA/MASHA%20(32).jpg', 'https://mixxmix.com/web/product/mixxmix/2020/05/20/MASHA/MASHA%20(33).jpg', 'https://mixxmix.com/web/product/mixxmix/2020/05/20/MASHA/MASHA%20(34).jpg', 'https://mixxmix.com/web/product/mixxmix/2020/05/20/MASHA/MASHA%20(35).jpg', 'https://mixxmix.com/web/product/mixxmix/2020/05/20/MASHA/MASHA%20(36).jpg', 'https://mixxmix.com/web/product/mixxmix/2020/05/20/MASHA/MASHA%20(37).jpg', 'https://mixxmix.com/web/product/mixxmix/2020/05/20/MASHA/MASHA%20(38).jpg', 'https://mixxmix.com/web/product/mixxmix/2020/05/20/MASHA/MASHA%20(39).jpg', 'https://mixxmix.com/web/product/mixxmix/2020/05/20/MASHA/MASHA%20(40).jpg', 'https://mixxmix.com/web/product/mixxmix/2020/05/20/MASHA/MASHA%20(41).jpg']\n",
      "['https://mixxmix.com/web/product/mixxmix/2020/HEAD/20200520HEARTHEAD.jpg', 'https://mixxmix.com/web/product/mixxmix/2020/05/20/MASHA/MASHA%20(31).jpg', 'https://mixxmix.com/web/product/mixxmix/2020/05/20/MASHA/MASHA%20(32).jpg', 'https://mixxmix.com/web/product/mixxmix/2020/05/20/MASHA/MASHA%20(33).jpg', 'https://mixxmix.com/web/product/mixxmix/2020/05/20/MASHA/MASHA%20(34).jpg', 'https://mixxmix.com/web/product/mixxmix/2020/05/20/MASHA/MASHA%20(35).jpg', 'https://mixxmix.com/web/product/mixxmix/2020/05/20/MASHA/MASHA%20(36).jpg', 'https://mixxmix.com/web/product/mixxmix/2020/05/20/MASHA/MASHA%20(37).jpg', 'https://mixxmix.com/web/product/mixxmix/2020/05/20/MASHA/MASHA%20(38).jpg', 'https://mixxmix.com/web/product/mixxmix/2020/05/20/MASHA/MASHA%20(39).jpg', 'https://mixxmix.com/web/product/mixxmix/2020/05/20/MASHA/MASHA%20(40).jpg', 'https://mixxmix.com/web/product/mixxmix/2020/05/20/MASHA/MASHA%20(41).jpg', 'https://mixxmix.com/web/product/mixxmix/2020/05/20/MASHA/MASHA%20(42).jpg']\n",
      "['https://mixxmix.com/web/product/mixxmix/2020/HEAD/20200520HEARTHEAD.jpg', 'https://mixxmix.com/web/product/mixxmix/2020/05/20/MASHA/MASHA%20(31).jpg', 'https://mixxmix.com/web/product/mixxmix/2020/05/20/MASHA/MASHA%20(32).jpg', 'https://mixxmix.com/web/product/mixxmix/2020/05/20/MASHA/MASHA%20(33).jpg', 'https://mixxmix.com/web/product/mixxmix/2020/05/20/MASHA/MASHA%20(34).jpg', 'https://mixxmix.com/web/product/mixxmix/2020/05/20/MASHA/MASHA%20(35).jpg', 'https://mixxmix.com/web/product/mixxmix/2020/05/20/MASHA/MASHA%20(36).jpg', 'https://mixxmix.com/web/product/mixxmix/2020/05/20/MASHA/MASHA%20(37).jpg', 'https://mixxmix.com/web/product/mixxmix/2020/05/20/MASHA/MASHA%20(38).jpg', 'https://mixxmix.com/web/product/mixxmix/2020/05/20/MASHA/MASHA%20(39).jpg', 'https://mixxmix.com/web/product/mixxmix/2020/05/20/MASHA/MASHA%20(40).jpg', 'https://mixxmix.com/web/product/mixxmix/2020/05/20/MASHA/MASHA%20(41).jpg', 'https://mixxmix.com/web/product/mixxmix/2020/05/20/MASHA/MASHA%20(42).jpg', 'https://mixxmix.com/web/product/mixxmix/2020/05/20/EX/P000DGHD.jpg']\n",
      "['https://mixxmix.com/web/product/mixxmix/2020/HEAD/20200520HEARTHEAD.jpg', 'https://mixxmix.com/web/product/mixxmix/2020/05/20/MASHA/MASHA%20(31).jpg', 'https://mixxmix.com/web/product/mixxmix/2020/05/20/MASHA/MASHA%20(32).jpg', 'https://mixxmix.com/web/product/mixxmix/2020/05/20/MASHA/MASHA%20(33).jpg', 'https://mixxmix.com/web/product/mixxmix/2020/05/20/MASHA/MASHA%20(34).jpg', 'https://mixxmix.com/web/product/mixxmix/2020/05/20/MASHA/MASHA%20(35).jpg', 'https://mixxmix.com/web/product/mixxmix/2020/05/20/MASHA/MASHA%20(36).jpg', 'https://mixxmix.com/web/product/mixxmix/2020/05/20/MASHA/MASHA%20(37).jpg', 'https://mixxmix.com/web/product/mixxmix/2020/05/20/MASHA/MASHA%20(38).jpg', 'https://mixxmix.com/web/product/mixxmix/2020/05/20/MASHA/MASHA%20(39).jpg', 'https://mixxmix.com/web/product/mixxmix/2020/05/20/MASHA/MASHA%20(40).jpg', 'https://mixxmix.com/web/product/mixxmix/2020/05/20/MASHA/MASHA%20(41).jpg', 'https://mixxmix.com/web/product/mixxmix/2020/05/20/MASHA/MASHA%20(42).jpg', 'https://mixxmix.com/web/product/mixxmix/2020/05/20/EX/P000DGHD.jpg', 'https://mixxmix.com/web/product/mixxmix/2020/05/D/P000DGHD_d.jpg']\n",
      "['https://mixxmix.com/web/product/mixxmix/2020/HEAD/20200520HEARTHEAD.jpg', 'https://mixxmix.com/web/product/mixxmix/2020/05/20/MASHA/MASHA%20(31).jpg', 'https://mixxmix.com/web/product/mixxmix/2020/05/20/MASHA/MASHA%20(32).jpg', 'https://mixxmix.com/web/product/mixxmix/2020/05/20/MASHA/MASHA%20(33).jpg', 'https://mixxmix.com/web/product/mixxmix/2020/05/20/MASHA/MASHA%20(34).jpg', 'https://mixxmix.com/web/product/mixxmix/2020/05/20/MASHA/MASHA%20(35).jpg', 'https://mixxmix.com/web/product/mixxmix/2020/05/20/MASHA/MASHA%20(36).jpg', 'https://mixxmix.com/web/product/mixxmix/2020/05/20/MASHA/MASHA%20(37).jpg', 'https://mixxmix.com/web/product/mixxmix/2020/05/20/MASHA/MASHA%20(38).jpg', 'https://mixxmix.com/web/product/mixxmix/2020/05/20/MASHA/MASHA%20(39).jpg', 'https://mixxmix.com/web/product/mixxmix/2020/05/20/MASHA/MASHA%20(40).jpg', 'https://mixxmix.com/web/product/mixxmix/2020/05/20/MASHA/MASHA%20(41).jpg', 'https://mixxmix.com/web/product/mixxmix/2020/05/20/MASHA/MASHA%20(42).jpg', 'https://mixxmix.com/web/product/mixxmix/2020/05/20/EX/P000DGHD.jpg', 'https://mixxmix.com/web/product/mixxmix/2020/05/D/P000DGHD_d.jpg', 'https://mixxmix.com/web/product/mixxmix/2020/INFO/2020-05-20-HEART%20MODEL%20INFO.jpg']\n"
     ]
    },
    {
     "ename": "KeyError",
     "evalue": "'src'",
     "output_type": "error",
     "traceback": [
      "\u001b[0;31m---------------------------------------------------------------------------\u001b[0m",
      "\u001b[0;31mKeyError\u001b[0m                                  Traceback (most recent call last)",
      "\u001b[0;32m<ipython-input-26-9ee52454fe30>\u001b[0m in \u001b[0;36m<module>\u001b[0;34m\u001b[0m\n\u001b[1;32m      3\u001b[0m \u001b[0mimg\u001b[0m \u001b[0;34m=\u001b[0m \u001b[0msoup\u001b[0m\u001b[0;34m.\u001b[0m\u001b[0mselect\u001b[0m\u001b[0;34m(\u001b[0m\u001b[0;34m'#info_container_1 img'\u001b[0m\u001b[0;34m)\u001b[0m\u001b[0;34m\u001b[0m\u001b[0;34m\u001b[0m\u001b[0m\n\u001b[1;32m      4\u001b[0m \u001b[0;32mfor\u001b[0m \u001b[0mn\u001b[0m \u001b[0;32min\u001b[0m \u001b[0mimg\u001b[0m\u001b[0;34m:\u001b[0m\u001b[0;34m\u001b[0m\u001b[0;34m\u001b[0m\u001b[0m\n\u001b[0;32m----> 5\u001b[0;31m     \u001b[0mb\u001b[0m\u001b[0;34m.\u001b[0m\u001b[0mappend\u001b[0m\u001b[0;34m(\u001b[0m\u001b[0mn\u001b[0m\u001b[0;34m[\u001b[0m\u001b[0;34m'src'\u001b[0m\u001b[0;34m]\u001b[0m\u001b[0;34m)\u001b[0m\u001b[0;34m\u001b[0m\u001b[0;34m\u001b[0m\u001b[0m\n\u001b[0m\u001b[1;32m      6\u001b[0m     \u001b[0mprint\u001b[0m\u001b[0;34m(\u001b[0m\u001b[0mb\u001b[0m\u001b[0;34m)\u001b[0m\u001b[0;34m\u001b[0m\u001b[0;34m\u001b[0m\u001b[0m\n\u001b[1;32m      7\u001b[0m     \u001b[0mdata\u001b[0m\u001b[0;34m[\u001b[0m\u001b[0;34m'info_img'\u001b[0m\u001b[0;34m]\u001b[0m \u001b[0;34m=\u001b[0m \u001b[0mb\u001b[0m\u001b[0;34m\u001b[0m\u001b[0;34m\u001b[0m\u001b[0m\n",
      "\u001b[0;32m~/.pyenv/versions/3.8.2/envs/Brandingdong/lib/python3.8/site-packages/bs4/element.py\u001b[0m in \u001b[0;36m__getitem__\u001b[0;34m(self, key)\u001b[0m\n\u001b[1;32m   1399\u001b[0m         \"\"\"tag[key] returns the value of the 'key' attribute for the Tag,\n\u001b[1;32m   1400\u001b[0m         and throws an exception if it's not there.\"\"\"\n\u001b[0;32m-> 1401\u001b[0;31m         \u001b[0;32mreturn\u001b[0m \u001b[0mself\u001b[0m\u001b[0;34m.\u001b[0m\u001b[0mattrs\u001b[0m\u001b[0;34m[\u001b[0m\u001b[0mkey\u001b[0m\u001b[0;34m]\u001b[0m\u001b[0;34m\u001b[0m\u001b[0;34m\u001b[0m\u001b[0m\n\u001b[0m\u001b[1;32m   1402\u001b[0m \u001b[0;34m\u001b[0m\u001b[0m\n\u001b[1;32m   1403\u001b[0m     \u001b[0;32mdef\u001b[0m \u001b[0m__iter__\u001b[0m\u001b[0;34m(\u001b[0m\u001b[0mself\u001b[0m\u001b[0;34m)\u001b[0m\u001b[0;34m:\u001b[0m\u001b[0;34m\u001b[0m\u001b[0;34m\u001b[0m\u001b[0m\n",
      "\u001b[0;31mKeyError\u001b[0m: 'src'"
     ]
    }
   ],
   "source": [
    "data = {}\n",
    "b = []\n",
    "img = soup.select('#info_container_1 img')\n",
    "for n in img:\n",
    "    b.append(n['src'])\n",
    "    data['info_img'] = b\n",
    "    \n",
    "print(data)"
   ]
  },
  {
   "cell_type": "code",
   "execution_count": null,
   "metadata": {
    "scrolled": true
   },
   "outputs": [],
   "source": [
    "from selenium import webdriver\n",
    "from bs4 import BeautifulSoup\n",
    "import re\n",
    "driver = webdriver.Chrome('./chromedriver')\n",
    "driver.set_window_size(600,800)\n",
    "driver.get('https://www.brandi.co.kr/products/19128952')\n"
   ]
  },
  {
   "cell_type": "code",
   "execution_count": null,
   "metadata": {},
   "outputs": [],
   "source": [
    "html = driver.page_source\n",
    "soup = BeautifulSoup(html, 'html.parser')"
   ]
  },
  {
   "cell_type": "code",
   "execution_count": null,
   "metadata": {
    "scrolled": true
   },
   "outputs": [],
   "source": [
    "img = soup.select_one('.swiper-wrapper').select('[data-thumb]')\n",
    "\n",
    "print([ n['data-thumb'] for n in img]) "
   ]
  },
  {
   "cell_type": "code",
   "execution_count": null,
   "metadata": {},
   "outputs": [],
   "source": [
    "brandimg = soup.select_one('.seller-info div')\n",
    "print(re.findall(r'url[(][\"](.*)[\"]',brandimg['style'])[0])"
   ]
  },
  {
   "cell_type": "code",
   "execution_count": null,
   "metadata": {
    "scrolled": true
   },
   "outputs": [],
   "source": [
    "brandname = soup.select_one('.info strong.name').get_text()\n",
    "print(brandname)"
   ]
  },
  {
   "cell_type": "code",
   "execution_count": null,
   "metadata": {},
   "outputs": [],
   "source": [
    "intro = soup.select_one('.info p.txt').get_text()\n",
    "print(intro)"
   ]
  },
  {
   "cell_type": "code",
   "execution_count": null,
   "metadata": {},
   "outputs": [],
   "source": [
    "title = soup.select_one('.detail_title').get_text()\n",
    "print(title)"
   ]
  },
  {
   "cell_type": "code",
   "execution_count": null,
   "metadata": {},
   "outputs": [],
   "source": [
    "try:\n",
    "    data = soup.select_one('strong.dc').get_text()\n",
    "    discountRate = int(re.findall(r'\\d*',data)[0].replace('%',''))\n",
    "except:\n",
    "    discountRate = 0\n",
    "\n",
    "print(discountRate)"
   ]
  },
  {
   "cell_type": "code",
   "execution_count": null,
   "metadata": {},
   "outputs": [],
   "source": [
    "try:\n",
    "    data = int(soup.select_one('.detail_price .cost .number').get_text().replace(',',''))\n",
    "except:\n",
    "    data = int(soup.select_one('.detail_price .price .number').get_text().replace(',',''))\n",
    "print(data)"
   ]
  },
  {
   "cell_type": "code",
   "execution_count": null,
   "metadata": {},
   "outputs": [],
   "source": [
    "try :\n",
    "    data = soup.select_one('.total-sales').get_text()\n",
    "    try:\n",
    "        Purchase_count = int(re.findall(r'\\d*[,]\\d*',data)[0].replace(',',''))\n",
    "    except:\n",
    "        Purchase_count = int(re.findall(r'\\d*',data)[0])\n",
    "except:\n",
    "    Purchase_count = 0\n",
    "print(Purchase_count)"
   ]
  },
  {
   "cell_type": "code",
   "execution_count": null,
   "metadata": {},
   "outputs": [],
   "source": [
    "delivery = soup.select_one('.conts-more dd').get_text()\n",
    "print(delivery)"
   ]
  },
  {
   "cell_type": "code",
   "execution_count": null,
   "metadata": {},
   "outputs": [],
   "source": [
    "# 색\n",
    "# option = soup.select('.detail_options option')\n",
    "# for i in option:\n",
    "#     print(i['value'])\n",
    "\n"
   ]
  },
  {
   "cell_type": "code",
   "execution_count": 3,
   "metadata": {},
   "outputs": [
    {
     "name": "stdout",
     "output_type": "stream",
     "text": [
      "https://mixxmix.com/web/product/mixxmix/2020/HEAD/20200520HEARTHEAD.jpg\n",
      "https://mixxmix.com/web/product/mixxmix/2020/05/20/MASHA/MASHA%20(31).jpg\n",
      "https://mixxmix.com/web/product/mixxmix/2020/05/20/MASHA/MASHA%20(32).jpg\n",
      "https://mixxmix.com/web/product/mixxmix/2020/05/20/MASHA/MASHA%20(33).jpg\n",
      "https://mixxmix.com/web/product/mixxmix/2020/05/20/MASHA/MASHA%20(34).jpg\n",
      "https://mixxmix.com/web/product/mixxmix/2020/05/20/MASHA/MASHA%20(35).jpg\n",
      "https://mixxmix.com/web/product/mixxmix/2020/05/20/MASHA/MASHA%20(36).jpg\n",
      "https://mixxmix.com/web/product/mixxmix/2020/05/20/MASHA/MASHA%20(37).jpg\n",
      "https://mixxmix.com/web/product/mixxmix/2020/05/20/MASHA/MASHA%20(38).jpg\n",
      "https://mixxmix.com/web/product/mixxmix/2020/05/20/MASHA/MASHA%20(39).jpg\n",
      "https://mixxmix.com/web/product/mixxmix/2020/05/20/MASHA/MASHA%20(40).jpg\n",
      "https://mixxmix.com/web/product/mixxmix/2020/05/20/MASHA/MASHA%20(41).jpg\n",
      "https://mixxmix.com/web/product/mixxmix/2020/05/20/MASHA/MASHA%20(42).jpg\n",
      "https://mixxmix.com/web/product/mixxmix/2020/05/20/EX/P000DGHD.jpg\n",
      "https://mixxmix.com/web/product/mixxmix/2020/05/D/P000DGHD_d.jpg\n",
      "https://mixxmix.com/web/product/mixxmix/2020/INFO/2020-05-20-HEART%20MODEL%20INFO.jpg\n"
     ]
    },
    {
     "ename": "KeyError",
     "evalue": "'src'",
     "output_type": "error",
     "traceback": [
      "\u001b[0;31m---------------------------------------------------------------------------\u001b[0m",
      "\u001b[0;31mKeyError\u001b[0m                                  Traceback (most recent call last)",
      "\u001b[0;32m<ipython-input-3-139bd4579781>\u001b[0m in \u001b[0;36m<module>\u001b[0;34m\u001b[0m\n\u001b[1;32m      1\u001b[0m \u001b[0minfo_img\u001b[0m \u001b[0;34m=\u001b[0m \u001b[0msoup\u001b[0m\u001b[0;34m.\u001b[0m\u001b[0mselect\u001b[0m\u001b[0;34m(\u001b[0m\u001b[0;34m'#info_container_1 img'\u001b[0m\u001b[0;34m)\u001b[0m\u001b[0;34m\u001b[0m\u001b[0;34m\u001b[0m\u001b[0m\n\u001b[1;32m      2\u001b[0m \u001b[0;32mfor\u001b[0m \u001b[0mi\u001b[0m \u001b[0;32min\u001b[0m \u001b[0minfo_img\u001b[0m\u001b[0;34m:\u001b[0m\u001b[0;34m\u001b[0m\u001b[0;34m\u001b[0m\u001b[0m\n\u001b[0;32m----> 3\u001b[0;31m     \u001b[0mprint\u001b[0m\u001b[0;34m(\u001b[0m\u001b[0mi\u001b[0m\u001b[0;34m[\u001b[0m\u001b[0;34m'src'\u001b[0m\u001b[0;34m]\u001b[0m\u001b[0;34m)\u001b[0m\u001b[0;34m\u001b[0m\u001b[0;34m\u001b[0m\u001b[0m\n\u001b[0m",
      "\u001b[0;32m~/.pyenv/versions/3.8.2/envs/Brandingdong/lib/python3.8/site-packages/bs4/element.py\u001b[0m in \u001b[0;36m__getitem__\u001b[0;34m(self, key)\u001b[0m\n\u001b[1;32m   1399\u001b[0m         \"\"\"tag[key] returns the value of the 'key' attribute for the Tag,\n\u001b[1;32m   1400\u001b[0m         and throws an exception if it's not there.\"\"\"\n\u001b[0;32m-> 1401\u001b[0;31m         \u001b[0;32mreturn\u001b[0m \u001b[0mself\u001b[0m\u001b[0;34m.\u001b[0m\u001b[0mattrs\u001b[0m\u001b[0;34m[\u001b[0m\u001b[0mkey\u001b[0m\u001b[0;34m]\u001b[0m\u001b[0;34m\u001b[0m\u001b[0;34m\u001b[0m\u001b[0m\n\u001b[0m\u001b[1;32m   1402\u001b[0m \u001b[0;34m\u001b[0m\u001b[0m\n\u001b[1;32m   1403\u001b[0m     \u001b[0;32mdef\u001b[0m \u001b[0m__iter__\u001b[0m\u001b[0;34m(\u001b[0m\u001b[0mself\u001b[0m\u001b[0;34m)\u001b[0m\u001b[0;34m:\u001b[0m\u001b[0;34m\u001b[0m\u001b[0;34m\u001b[0m\u001b[0m\n",
      "\u001b[0;31mKeyError\u001b[0m: 'src'"
     ]
    }
   ],
   "source": [
    "info_img = soup.select('#info_container_1 img')\n",
    "for i in info_img:\n",
    "    print(i['src'])"
   ]
  },
  {
   "cell_type": "code",
   "execution_count": null,
   "metadata": {
    "scrolled": false
   },
   "outputs": [],
   "source": [
    "# textdic = {}\n",
    "# info_text = [i for i in soup.select_one('#info_container_1').get_text().splitlines() if i]\n",
    "# for i in info_text:\n",
    "#     if i == '\\xa0' or i == '\\u200b':\n",
    "#         i = ' '\n",
    "#     textdic['comment'] = textdic.get('comment','') + i\n",
    "# print(textdic)"
   ]
  },
  {
   "cell_type": "code",
   "execution_count": null,
   "metadata": {
    "scrolled": true
   },
   "outputs": [],
   "source": [
    "info_text = soup.select_one('#info_container_1').get_text().replace('\\n', '')\n",
    "print(info_text)"
   ]
  },
  {
   "cell_type": "code",
   "execution_count": null,
   "metadata": {
    "scrolled": true
   },
   "outputs": [],
   "source": [
    "name = soup.select('p.txt-info')\n",
    "for i in range(5):\n",
    "    var = name[i].get_text().replace('\\n',\"\")\n",
    "    print(re.findall(r'[:]\\s*(.*)',var)[0].rstrip())\n",
    "    break\n",
    "   "
   ]
  },
  {
   "cell_type": "code",
   "execution_count": null,
   "metadata": {},
   "outputs": [],
   "source": [
    "data = {}\n",
    "name = soup.select('p.txt-info')\n",
    "slist = ['company_name','representative','license_num','mail_order_num','biz_location']\n",
    "for num,field in enumerate(slist):\n",
    "    var = name[num].get_text().replace('\\n',\"\")\n",
    "    data[field] = re.findall(r'[:]\\s*(.*)',var)[0].rstrip()\n",
    "print(data)"
   ]
  },
  {
   "cell_type": "code",
   "execution_count": null,
   "metadata": {},
   "outputs": [],
   "source": [
    "name = soup.select('p.txt-info')[5].get_text()\n",
    "print(name)"
   ]
  },
  {
   "cell_type": "code",
   "execution_count": null,
   "metadata": {
    "scrolled": false
   },
   "outputs": [],
   "source": [
    "name = soup.select('p.txt-info')[5].get_text()\n",
    "print(name)\n",
    "name = soup.select('p.txt-info')\n",
    "for i in range(6,8):\n",
    "    var = name[i].get_text().replace('\\n',\"\")\n",
    "    print(re.findall(r'[:]\\s*(.*)',var)[0].rstrip())"
   ]
  },
  {
   "cell_type": "code",
   "execution_count": 195,
   "metadata": {
    "scrolled": true
   },
   "outputs": [
    {
     "name": "stdout",
     "output_type": "stream",
     "text": [
      "{}\n"
     ]
    }
   ],
   "source": [
    "data = {}\n",
    "if soup.find('h4', text=\"[ 모델 사이즈 정보 ]\"):\n",
    "    name = soup.select('p.txt-info')\n",
    "    for i in range(8,12):\n",
    "        var = name[i].get_text().replace('\\n',\"\")\n",
    "        data['model_size'] = data.get('model_size','') + var + '\\n'\n",
    "        \n",
    "print(data)"
   ]
  },
  {
   "cell_type": "code",
   "execution_count": 194,
   "metadata": {
    "scrolled": true
   },
   "outputs": [
    {
     "ename": "IndexError",
     "evalue": "list index out of range",
     "output_type": "error",
     "traceback": [
      "\u001b[0;31m---------------------------------------------------------------------------\u001b[0m",
      "\u001b[0;31mIndexError\u001b[0m                                Traceback (most recent call last)",
      "\u001b[0;32m<ipython-input-194-00c4964327d1>\u001b[0m in \u001b[0;36m<module>\u001b[0;34m\u001b[0m\n\u001b[0;32m----> 1\u001b[0;31m \u001b[0mn\u001b[0m \u001b[0;34m=\u001b[0m \u001b[0msoup\u001b[0m\u001b[0;34m.\u001b[0m\u001b[0mselect\u001b[0m\u001b[0;34m(\u001b[0m\u001b[0;34m'h4'\u001b[0m\u001b[0;34m)\u001b[0m\u001b[0;34m[\u001b[0m\u001b[0;36m4\u001b[0m\u001b[0;34m]\u001b[0m\u001b[0;34m.\u001b[0m\u001b[0mparent\u001b[0m\u001b[0;34m.\u001b[0m\u001b[0mselect\u001b[0m\u001b[0;34m(\u001b[0m\u001b[0;34m'[data-v-4ced9216]'\u001b[0m\u001b[0;34m)\u001b[0m\u001b[0;34m\u001b[0m\u001b[0;34m\u001b[0m\u001b[0m\n\u001b[0m\u001b[1;32m      2\u001b[0m \u001b[0mcount\u001b[0m \u001b[0;34m=\u001b[0m \u001b[0;36m0\u001b[0m\u001b[0;34m\u001b[0m\u001b[0;34m\u001b[0m\u001b[0m\n\u001b[1;32m      3\u001b[0m \u001b[0mpage\u001b[0m \u001b[0;34m=\u001b[0m \u001b[0;36m1\u001b[0m\u001b[0;34m\u001b[0m\u001b[0;34m\u001b[0m\u001b[0m\n\u001b[1;32m      4\u001b[0m \u001b[0;32mfor\u001b[0m \u001b[0mi\u001b[0m \u001b[0;32min\u001b[0m \u001b[0mn\u001b[0m\u001b[0;34m:\u001b[0m\u001b[0;34m\u001b[0m\u001b[0;34m\u001b[0m\u001b[0m\n\u001b[1;32m      5\u001b[0m \u001b[0;34m\u001b[0m\u001b[0m\n",
      "\u001b[0;31mIndexError\u001b[0m: list index out of range"
     ]
    }
   ],
   "source": [
    "n = soup.select('h4')[4].parent.select('[data-v-4ced9216]')\n",
    "count = 0\n",
    "page = 1\n",
    "for i in n:\n",
    "    \n",
    "    if re.match('<h4',str(i)):\n",
    "        \n",
    "        if count == page :\n",
    "            break\n",
    "        count+=1\n",
    "        continue\n",
    "    if count == page:\n",
    "        print(i.get_text())"
   ]
  },
  {
   "cell_type": "code",
   "execution_count": 193,
   "metadata": {
    "scrolled": true
   },
   "outputs": [
    {
     "ename": "IndexError",
     "evalue": "list index out of range",
     "output_type": "error",
     "traceback": [
      "\u001b[0;31m---------------------------------------------------------------------------\u001b[0m",
      "\u001b[0;31mIndexError\u001b[0m                                Traceback (most recent call last)",
      "\u001b[0;32m<ipython-input-193-8dceddc143c1>\u001b[0m in \u001b[0;36m<module>\u001b[0;34m\u001b[0m\n\u001b[0;32m----> 1\u001b[0;31m \u001b[0mn\u001b[0m \u001b[0;34m=\u001b[0m \u001b[0msoup\u001b[0m\u001b[0;34m.\u001b[0m\u001b[0mselect\u001b[0m\u001b[0;34m(\u001b[0m\u001b[0;34m'h4'\u001b[0m\u001b[0;34m)\u001b[0m\u001b[0;34m[\u001b[0m\u001b[0;36m4\u001b[0m\u001b[0;34m]\u001b[0m\u001b[0;34m.\u001b[0m\u001b[0mparent\u001b[0m\u001b[0;34m.\u001b[0m\u001b[0mselect\u001b[0m\u001b[0;34m(\u001b[0m\u001b[0;34m'[data-v-4ced9216]'\u001b[0m\u001b[0;34m)\u001b[0m\u001b[0;34m\u001b[0m\u001b[0;34m\u001b[0m\u001b[0m\n\u001b[0m\u001b[1;32m      2\u001b[0m \u001b[0mcount\u001b[0m \u001b[0;34m=\u001b[0m \u001b[0;36m0\u001b[0m\u001b[0;34m\u001b[0m\u001b[0;34m\u001b[0m\u001b[0m\n\u001b[1;32m      3\u001b[0m \u001b[0mpage\u001b[0m \u001b[0;34m=\u001b[0m \u001b[0;36m2\u001b[0m\u001b[0;34m\u001b[0m\u001b[0;34m\u001b[0m\u001b[0m\n\u001b[1;32m      4\u001b[0m \u001b[0;32mfor\u001b[0m \u001b[0mi\u001b[0m \u001b[0;32min\u001b[0m \u001b[0mn\u001b[0m\u001b[0;34m:\u001b[0m\u001b[0;34m\u001b[0m\u001b[0;34m\u001b[0m\u001b[0m\n\u001b[1;32m      5\u001b[0m \u001b[0;34m\u001b[0m\u001b[0m\n",
      "\u001b[0;31mIndexError\u001b[0m: list index out of range"
     ]
    }
   ],
   "source": [
    "n = soup.select('h4')[4].parent.select('[data-v-4ced9216]')\n",
    "count = 0\n",
    "page = 2\n",
    "for i in n:\n",
    "    \n",
    "    if re.match('<h4',str(i)):\n",
    "        \n",
    "        if count == page :\n",
    "            break\n",
    "        count+=1\n",
    "        continue\n",
    "    if count == page:\n",
    "        print(i.get_text())"
   ]
  },
  {
   "cell_type": "code",
   "execution_count": 192,
   "metadata": {},
   "outputs": [
    {
     "ename": "IndexError",
     "evalue": "list index out of range",
     "output_type": "error",
     "traceback": [
      "\u001b[0;31m---------------------------------------------------------------------------\u001b[0m",
      "\u001b[0;31mIndexError\u001b[0m                                Traceback (most recent call last)",
      "\u001b[0;32m<ipython-input-192-24a328235e69>\u001b[0m in \u001b[0;36m<module>\u001b[0;34m\u001b[0m\n\u001b[0;32m----> 1\u001b[0;31m \u001b[0mname\u001b[0m \u001b[0;34m=\u001b[0m \u001b[0msoup\u001b[0m\u001b[0;34m.\u001b[0m\u001b[0mselect\u001b[0m\u001b[0;34m(\u001b[0m\u001b[0;34m'#seller-order-info td'\u001b[0m\u001b[0;34m)\u001b[0m\u001b[0;34m[\u001b[0m\u001b[0;36m4\u001b[0m\u001b[0;34m]\u001b[0m\u001b[0;34m.\u001b[0m\u001b[0mget_text\u001b[0m\u001b[0;34m(\u001b[0m\u001b[0;34m)\u001b[0m\u001b[0;34m\u001b[0m\u001b[0;34m\u001b[0m\u001b[0m\n\u001b[0m\u001b[1;32m      2\u001b[0m \u001b[0mprint\u001b[0m\u001b[0;34m(\u001b[0m\u001b[0mname\u001b[0m\u001b[0;34m)\u001b[0m\u001b[0;34m\u001b[0m\u001b[0;34m\u001b[0m\u001b[0m\n",
      "\u001b[0;31mIndexError\u001b[0m: list index out of range"
     ]
    }
   ],
   "source": [
    "name = soup.select('#seller-order-info td')[4].get_text()\n",
    "print(name)"
   ]
  },
  {
   "cell_type": "code",
   "execution_count": null,
   "metadata": {},
   "outputs": [],
   "source": [
    "from selenium import webdriver\n",
    "from bs4 import BeautifulSoup\n",
    "import re\n",
    "driver = webdriver.Chrome('./chromedriver')\n",
    "driver.get('https://www.brandi.co.kr/products/18814376')\n",
    "driver.implicitly_wait(7)\n",
    "html = driver.page_source\n",
    "soup = BeautifulSoup(html, 'html.parser')\n",
    "print(soup)"
   ]
  },
  {
   "cell_type": "code",
   "execution_count": null,
   "metadata": {
    "scrolled": true
   },
   "outputs": [],
   "source": [
    "data = {}\n",
    "#메인 이미지 +++++++++++++++이미지 리사이징 필요\n",
    "img = list(set(soup.select('img[data-v-e6eb87de]')))\n",
    "data['main_img'] = [n['src'] for n in img]\n",
    "#브랜드 이름\n",
    "data['brandname'] = soup.select('a[data-v-c8060bfa]')[1].get_text()\n",
    "#브랜드 소개\n",
    "data['intro'] = soup.select('a[data-v-c8060bfa]')[2].get_text()\n",
    "#제품 이름\n",
    "data['name'] = soup.select_one('.detail_title').get_text()\n",
    "#제품 가격\n",
    "try:\n",
    "    var = soup.select_one('.detail_price span').get_text()\n",
    "except:\n",
    "    var = soup.select_one('.detail_price').get_text()\n",
    "data['price'] = int(re.findall(r'\\d*[,]\\d*',var)[0].replace(',',''))\n",
    "#할인율\n",
    "try:\n",
    "    var = soup.select_one('.detail_price b').get_text()\n",
    "    data['discount_rate'] = int(re.findall(r'\\d*',var)[0].replace('%',''))/100\n",
    "except:\n",
    "    data['discount_rate'] = 0\n",
    "#판매량\n",
    "try :\n",
    "    var = soup.select_one('.detail_purchase_count').get_text()\n",
    "    try:\n",
    "        Purchase_count = int(re.findall(r'\\d*[,]\\d*',var)[0].replace(',',''))\n",
    "    except:\n",
    "        Purchase_count = int(re.findall(r'\\d*',var)[0])\n",
    "except:\n",
    "    Purchase_count = 0\n",
    "#배송정보\n",
    "data['delivery'] = soup.select_one('.detail_info_wrapper > span').get_text()[5:]\n",
    "\n",
    "#product_detail\n",
    "data['detail'] = soup.select_one('#info_container_1').get_text().replace('\\n', '')\n",
    "\n",
    "#product_detail_img\n",
    "img = soup.select('#info_container_1 img')\n",
    "data['info_img'] = [n['src'] for n in img]\n",
    "\n",
    "#주문정보로 스왑\n",
    "button = driver.find_element_by_xpath(f'//div[@class=\"tab_default\"][3]')\n",
    "driver.execute_script(\"arguments[0].click();\", button)\n",
    "html = driver.page_source\n",
    "soup = BeautifulSoup(html, 'html.parser')\n",
    "\n",
    "#스토어정보\n",
    "store_info = soup.select('#store-info td')\n",
    "#주문정보\n",
    "selling_info = soup.select('#seller-order-info td')\n",
    "#상호명이 브랜디이면 모델사이즈 제외 전부 기본값\n",
    "company_name = store_info[1].get_text()\n",
    "\n",
    "if company_name == '주식회사 브랜디':\n",
    "    if soup.select('#seller-order-info th')[1].get_text() == '모델 사이즈 정보':\n",
    "        data['model_size'] = selling_info[1].get_text()\n",
    "\n",
    "else:\n",
    "    data['company_name'] = company_name\n",
    "    #대표자\n",
    "    data['representative'] = store_info[3].get_text()\n",
    "    #사업자등록번호\n",
    "    data['license_num'] = store_info[5].get_text()\n",
    "    #통신판매업번호\n",
    "    data['mail_order_num'] = store_info[7].get_text()\n",
    "    #사업장소재지\n",
    "    data['biz_location'] = store_info[9].get_text()\n",
    "\n",
    "\n",
    "    n = 0\n",
    "    #스토어 고객센터\n",
    "    data['biz_location'] = selling_info[n].get_text()\n",
    "    n+=1\n",
    "    #모델사이즈 정보 // 없으면 스킵\n",
    "    if soup.select('#seller-order-info th')[1].get_text() == '모델 사이즈 정보':\n",
    "        data['model_size'] = selling_info[n].get_text()\n",
    "        n+=1\n",
    "    #배송정보\n",
    "    data['shipping_info'] = selling_info[n].get_text()\n",
    "    n+=1\n",
    "    #교환/환불정보\n",
    "    data['exchange_refund_info'] = selling_info[n].get_text()\n",
    "    n+=1\n",
    "    #상품정보 고시\n",
    "    var = selling_info[n].get_text()\n",
    "    if var == '상품상세 참조':\n",
    "        pass\n",
    "    else:\n",
    "        data['product_notice'] = var\n",
    "        \n",
    "print(data)"
   ]
  },
  {
   "cell_type": "code",
   "execution_count": null,
   "metadata": {},
   "outputs": [],
   "source": [
    "dic = {}\n",
    "\n",
    "dic['a'] = 34\n",
    "print(dic)"
   ]
  },
  {
   "cell_type": "code",
   "execution_count": null,
   "metadata": {},
   "outputs": [],
   "source": [
    "data = {'1':'1234'}\n",
    "data['2']"
   ]
  },
  {
   "cell_type": "code",
   "execution_count": null,
   "metadata": {},
   "outputs": [],
   "source": [
    "# # import sys\n",
    "# li = soup.select('.swiper li[data-v-f4bbec10]')\n",
    "# data = {}\n",
    "# # count = 0\n",
    "# for i in li:\n",
    "#     cate = i.select('a')\n",
    "#     main_cate = cate[0].get_text()\n",
    "#     #메인카테고리\n",
    "#     data['category'] = main_cate\n",
    "#     for j in range(1,len(cate)):\n",
    "#         #서브카테고리\n",
    "#         data['sub_category'] = cate[j].get_text()\n",
    "#         link = ('https://www.brandi.co.kr' + cate[j].get('href'))\n",
    "#         driver.get(link)\n",
    "#         html = driver.page_source\n",
    "#         soup = BeautifulSoup(html, 'html.parser')\n",
    "#         for k in range(20):\n",
    "#             p_link = 'https://www.brandi.co.kr' + soup.select('a[data-v-6fea5b78]')[k].get('href')\n",
    "#             driver.get(p_link)\n",
    "#             html = driver.page_source\n",
    "#             soup = BeautifulSoup(html, 'html.parser')\n",
    "#             #메인 이미지 +++++++++++++++이미지 리사이징 필요\n",
    "#             img = list(set(soup.select('img[data-v-e6eb87de]')))\n",
    "#             data['main_img'] = [n['src'] for n in img]\n",
    "#             #브랜드 이름\n",
    "#             data['brandname'] = soup.select('a[data-v-c8060bfa]')[1].get_text()\n",
    "#             #브랜드 소개\n",
    "#             data['intro'] = soup.select('a[data-v-c8060bfa]')[2].get_text()\n",
    "#             #제품 이름\n",
    "#             data['name'] = soup.select_one('.detail_title').get_text()\n",
    "#             #제품 가격\n",
    "#             try:\n",
    "#                 var = soup.select_one('.detail_price span').get_text()\n",
    "#             except:\n",
    "#                 var = soup.select_one('.detail_price').get_text()\n",
    "#             data['price'] = int(re.findall(r'\\d*[,]\\d*',var)[0].replace(',',''))\n",
    "#             #할인율\n",
    "#             try:\n",
    "#                 var = soup.select_one('.detail_price b').get_text()\n",
    "#                 data['discount_rate'] = int(re.findall(r'\\d*',var)[0].replace('%',''))/100\n",
    "#             except:\n",
    "#                 data['discount_rate'] = 0\n",
    "#             #판매량\n",
    "#             try :\n",
    "#                 var = soup.select_one('.detail_purchase_count').get_text()\n",
    "#                 try:\n",
    "#                     Purchase_count = int(re.findall(r'\\d*[,]\\d*',var)[0].replace(',',''))\n",
    "#                 except:\n",
    "#                     Purchase_count = int(re.findall(r'\\d*',var)[0])\n",
    "#             except:\n",
    "#                 Purchase_count = 0\n",
    "#             data['sales_count'] = Purchase_count\n",
    "#             #배송정보\n",
    "#             data['delivery'] = soup.select_one('.detail_info_wrapper > span').get_text()[5:]\n",
    "\n",
    "#             #product_detail\n",
    "#             data['info_text'] = soup.select_one('#info_container_1').get_text().replace('\\n', '')\n",
    "\n",
    "#             #product_detail_img\n",
    "#             img = soup.select('#info_container_1 img')\n",
    "#             data['info_img'] = [n['src'] for n in img]\n",
    "            \n",
    "#             #주문정보로 스왑\n",
    "#             button = driver.find_element_by_xpath(f'//div[@class=\"tab_default\"][3]')\n",
    "#             driver.execute_script(\"arguments[0].click();\", button)\n",
    "#             html = driver.page_source\n",
    "#             soup = BeautifulSoup(html, 'html.parser')\n",
    "            \n",
    "#             #스토어정보\n",
    "#             store_info = soup.select('#store-info td')\n",
    "#             #주문정보\n",
    "#             selling_info = soup.select('#seller-order-info td')\n",
    "#             #상호명이 브랜디이면 모델사이즈 제외 전부 기본값\n",
    "#             company_name = store_info[1].get_text()\n",
    "            \n",
    "#             if company_name == '주식회사 브랜디':\n",
    "#                 if soup.select('#seller-order-info th')[1].get_text() == '모델 사이즈 정보':\n",
    "#                 data['model_size'] = selling_info[1].get_text()\n",
    "\n",
    "#             else:\n",
    "#                 data['company_name'] = company_name\n",
    "#                 #대표자\n",
    "#                 data['representative'] = store_info[3].get_text()\n",
    "#                 #사업자등록번호\n",
    "#                 data['license_num'] = store_info[5].get_text()\n",
    "#                 #통신판매업번호\n",
    "#                 data['mail_order_num'] = store_info[7].get_text()\n",
    "#                 #사업장소재지\n",
    "#                 data['biz_location'] = store_info[9].get_text()\n",
    "            \n",
    "\n",
    "#                 n = 0\n",
    "#                 #스토어 고객센터\n",
    "#                 data['biz_location'] = selling_info[n].get_text()\n",
    "#                 n+=1\n",
    "#                 #모델사이즈 정보 // 없으면 스킵\n",
    "#                 if soup.select('#seller-order-info th')[1].get_text() == '모델 사이즈 정보':\n",
    "#                     data['model_size'] = selling_info[n].get_text()\n",
    "#                     n+=1\n",
    "#                 #배송정보\n",
    "#                 data['shipping_info'] = selling_info[n].get_text()\n",
    "#                 n+=1\n",
    "#                 #교환/환불정보\n",
    "#                 data['exchange_refund_info'] = selling_info[n].get_text()\n",
    "#                 n+=1\n",
    "#                 #상품정보 고시\n",
    "#                 var = selling_info[n].get_text()\n",
    "#                 if var == '상품상세 참조':\n",
    "#                     pass\n",
    "#                 else:\n",
    "#                     data['product_notice'] = var\n",
    "\n",
    "#             print(data)\n",
    "#             sys.exit(1)\n",
    "\n",
    "\n",
    "        "
   ]
  }
 ],
 "metadata": {
  "kernelspec": {
   "display_name": "Python 3",
   "language": "python",
   "name": "python3"
  },
  "language_info": {
   "codemirror_mode": {
    "name": "ipython",
    "version": 3
   },
   "file_extension": ".py",
   "mimetype": "text/x-python",
   "name": "python",
   "nbconvert_exporter": "python",
   "pygments_lexer": "ipython3",
   "version": "3.8.2"
  }
 },
 "nbformat": 4,
 "nbformat_minor": 2
}
