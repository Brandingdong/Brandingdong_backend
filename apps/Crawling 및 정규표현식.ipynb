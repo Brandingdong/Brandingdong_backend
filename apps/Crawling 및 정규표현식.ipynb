{
 "cells": [
  {
   "cell_type": "code",
   "execution_count": 7,
   "metadata": {},
   "outputs": [],
   "source": [
    "# import requests\n",
    "\n",
    "# req = requests.get('https://beomi.github.io/beomi.github.io_old/')\n",
    "\n",
    "# html = req.text\n",
    "# header = req.headers\n",
    "# status = req.status_code\n",
    "# is_ok = req.ok"
   ]
  },
  {
   "cell_type": "code",
   "execution_count": 5,
   "metadata": {},
   "outputs": [
    {
     "name": "stdout",
     "output_type": "stream",
     "text": [
      "\n",
      "https://image.brandi.me/cproduct/2020/06/08/17184019_1591610307_image3_L.jpg\n",
      "https://image.brandi.me/cproduct/2020/06/08/17184019_1591610306_image2_L.jpg\n",
      "https://image.brandi.me/cproduct/2020/06/08/17184019_1591610306_image1_L.jpg\n"
     ]
    }
   ],
   "source": [
    "# from selenium import webdriver\n",
    "# from bs4 import BeautifulSoup\n",
    "# import re\n",
    "# driver = webdriver.Chrome('./chromedriver')\n",
    "# driver.implicitly_wait(3)\n",
    "# driver.get('https://www.brandi.co.kr/products/17184019')\n",
    "# html = driver.page_source\n",
    "# soup = BeautifulSoup(html, 'html.parser')\n",
    "# img = soup.select('img[data-v-e6eb87de]')\n",
    "# img_only = list(set(img))\n",
    "# print()\n",
    "# for n in img_only:\n",
    "#     print (n['src'])"
   ]
  },
  {
   "cell_type": "code",
   "execution_count": 4,
   "metadata": {},
   "outputs": [
    {
     "name": "stdout",
     "output_type": "stream",
     "text": [
      "['<img data-v-e6eb87de=\"\" src=\"https://image.brandi.me/cproduct/2020/06/08/17184019_1591610307_image3_L.jpg\" style=\"width: 100%; position: absolute;\"/>', '<img data-v-e6eb87de=\"\" src=\"https://image.brandi.me/cproduct/2020/06/08/17184019_1591610306_image2_L.jpg\" style=\"width: 100%; position: absolute;\"/>', '<img data-v-e6eb87de=\"\" src=\"https://image.brandi.me/cproduct/2020/06/08/17184019_1591610306_image1_L.jpg\" style=\"width: 100%; position: absolute;\"/>']\n"
     ]
    }
   ],
   "source": [
    "# print(img_only)"
   ]
  },
  {
   "cell_type": "code",
   "execution_count": 62,
   "metadata": {},
   "outputs": [
    {
     "name": "stdout",
     "output_type": "stream",
     "text": [
      "[]\n"
     ]
    }
   ],
   "source": [
    "# import re\n",
    "# a = 'src=\"https://image.brandi.me/cproduct/2020/05/29/16841528_1590732351_image1_L.jpg\"'\n",
    "# regex = re.findall(r'src=\\w*(\\d*)\\w?[.]jpg',a)\n",
    "# print(regex)"
   ]
  },
  {
   "cell_type": "code",
   "execution_count": 78,
   "metadata": {},
   "outputs": [
    {
     "name": "stdout",
     "output_type": "stream",
     "text": [
      "73\n"
     ]
    }
   ],
   "source": [
    "# a= 'src=https://image.brandi.me/cproduct/2020/05/29/16841528_1590732351_image1_L.jpg'\n",
    "# regex = re.search(r'(.).{2}[.]jpg',a)\n",
    "# print(regex.start())"
   ]
  },
  {
   "cell_type": "code",
   "execution_count": 6,
   "metadata": {},
   "outputs": [],
   "source": [
    "# regex = sorted(img_only, key=lambda img_only: img_only[1])"
   ]
  },
  {
   "cell_type": "code",
   "execution_count": 98,
   "metadata": {},
   "outputs": [
    {
     "name": "stdout",
     "output_type": "stream",
     "text": [
      "['src=img1as.jpg asdfsf', 'src=img2as.jpg asdf', 'src=img3as.jpg asdff']\n"
     ]
    }
   ],
   "source": [
    "# b = ['src=img3as.jpg asdff','src=img2as.jpg asdf','src=img1as.jpg asdfsf']\n",
    "# # so = sorted(b, key=lambda b:b[re.findall(r'(.).{2}[.]jpg')])\n",
    "# s = sorted(b, key=lambda b:b[re.search(r'(.).{2}[.]jpg',b).start()])\n",
    "# print(s)\n",
    "# # for n in b:\n",
    "# #     re.search\n",
    "# # key=re.findall(r'(.).{2}[.]jpg'"
   ]
  },
  {
   "cell_type": "code",
   "execution_count": 83,
   "metadata": {},
   "outputs": [
    {
     "name": "stdout",
     "output_type": "stream",
     "text": [
      "['src=img3.jpg asdf', 'src=img2.jpg asdfasf', 'src=img1.jpg asdf']\n"
     ]
    }
   ],
   "source": [
    "# print(so)"
   ]
  },
  {
   "cell_type": "code",
   "execution_count": 89,
   "metadata": {},
   "outputs": [
    {
     "name": "stdout",
     "output_type": "stream",
     "text": [
      "['a1', 'b2', 'c3']\n"
     ]
    }
   ],
   "source": [
    "# c= ['c3','b2','a1']\n",
    "# print(sorted(c, key=lambda c:c[1]))"
   ]
  },
  {
   "cell_type": "code",
   "execution_count": 108,
   "metadata": {
    "scrolled": true
   },
   "outputs": [
    {
     "name": "stdout",
     "output_type": "stream",
     "text": [
      "['<img data-v-e6eb87de=\"\" src=\"https://image.brandi.me/cproduct/2020/05/29/16841528_1590732351_image1_L.jpg\" style=\"width: 100%; position: absolute;\"/>', '<img data-v-e6eb87de=\"\" src=\"https://image.brandi.me/cproduct/2020/05/29/16841528_1590732352_image2_L.jpg\" style=\"width: 100%; position: absolute;\"/>', '<img data-v-e6eb87de=\"\" src=\"https://image.brandi.me/cproduct/2020/05/29/16841528_1590732353_image3_L.jpg\" style=\"width: 100%; position: absolute;\"/>', '<img data-v-e6eb87de=\"\" src=\"https://image.brandi.me/cproduct/2020/05/29/16841528_1590732356_image4_L.jpg\" style=\"width: 100%; position: absolute;\"/>', '<img data-v-e6eb87de=\"\" src=\"https://image.brandi.me/cproduct/2020/05/29/16841528_1590732356_image5_L.jpg\" style=\"width: 100%; position: absolute;\"/>']\n"
     ]
    }
   ],
   "source": [
    "# b = img_only\n",
    "# d = list(map(str,b))\n",
    "# regex = sorted(d, key=lambda d:d[re.search(r'(.).{2}[.]jpg',d).start()])\n",
    "# print(regex)\n",
    "\n",
    "# # s = sorted(b, key=lambda b:b[re.search(r'(.).{2}[.]jpg',b).start()])\n",
    "# # print(s)           "
   ]
  },
  {
   "cell_type": "code",
   "execution_count": 74,
   "metadata": {},
   "outputs": [
    {
     "name": "stdout",
     "output_type": "stream",
     "text": [
      "https://image.brandi.me/cproduct/2020/07/16/18306722_1594888395_image1_L.jpg\n"
     ]
    }
   ],
   "source": [
    "from selenium import webdriver\n",
    "from bs4 import BeautifulSoup\n",
    "import re\n",
    "driver = webdriver.Chrome('./chromedriver')\n",
    "driver.implicitly_wait(3)\n",
    "driver.get('https://www.brandi.co.kr/products/18306722')\n",
    "html = driver.page_source\n",
    "soup = BeautifulSoup(html, 'html.parser')\n",
    "img = list(set(soup.select('img[data-v-e6eb87de]')))\n",
    "for n in img:\n",
    "    print (n['src'])"
   ]
  },
  {
   "cell_type": "code",
   "execution_count": 75,
   "metadata": {},
   "outputs": [
    {
     "name": "stdout",
     "output_type": "stream",
     "text": [
      "유니온스포츠\n"
     ]
    }
   ],
   "source": [
    "brandname = soup.select('a[data-v-c8060bfa]')[1].get_text()\n",
    "print(brandname)"
   ]
  },
  {
   "cell_type": "code",
   "execution_count": 76,
   "metadata": {},
   "outputs": [
    {
     "name": "stdout",
     "output_type": "stream",
     "text": [
      "[나이키] NSW ESSNTL TOP SS LBR OS_BV3929-010\n"
     ]
    }
   ],
   "source": [
    "title = soup.select_one('.detail_title').get_text()\n",
    "print(title)"
   ]
  },
  {
   "cell_type": "code",
   "execution_count": 77,
   "metadata": {},
   "outputs": [
    {
     "name": "stdout",
     "output_type": "stream",
     "text": [
      "72\n"
     ]
    }
   ],
   "source": [
    "try:\n",
    "    data = soup.select_one('.detail_price b').get_text()\n",
    "    discountRate = int(re.findall(r'\\d*',data)[0].replace('%',''))\n",
    "except:\n",
    "    discountRate = 0\n",
    "\n",
    "print(discountRate)"
   ]
  },
  {
   "cell_type": "code",
   "execution_count": 78,
   "metadata": {},
   "outputs": [
    {
     "name": "stdout",
     "output_type": "stream",
     "text": [
      "69000\n"
     ]
    }
   ],
   "source": [
    "try:\n",
    "    data = soup.select_one('.detail_price span').get_text()\n",
    "except:\n",
    "    data = soup.select_one('.detail_price').get_text()\n",
    "actualPrice = int(re.findall(r'\\d*[,]\\d*',data)[0].replace(',',''))\n",
    "print(actualPrice)"
   ]
  },
  {
   "cell_type": "code",
   "execution_count": 79,
   "metadata": {},
   "outputs": [
    {
     "name": "stdout",
     "output_type": "stream",
     "text": [
      "259\n"
     ]
    }
   ],
   "source": [
    "data = soup.select_one('.detail_purchase_count').get_text()\n",
    "try:\n",
    "    Purchase_count = int(re.findall(r'\\d*[,]\\d*',data)[0].replace(',',''))\n",
    "except:\n",
    "    Purchase_count = int(re.findall(r'\\d*',data)[0])\n",
    "print(Purchase_count)"
   ]
  },
  {
   "cell_type": "code",
   "execution_count": 80,
   "metadata": {},
   "outputs": [
    {
     "name": "stdout",
     "output_type": "stream",
     "text": [
      "판매자 배송\n"
     ]
    }
   ],
   "source": [
    "delivery = soup.select_one('.detail_info_wrapper > span').get_text()[5:]\n",
    "print(delivery)"
   ]
  },
  {
   "cell_type": "code",
   "execution_count": 81,
   "metadata": {},
   "outputs": [
    {
     "name": "stdout",
     "output_type": "stream",
     "text": [
      "\n",
      "S\n",
      "M\n",
      "L\n",
      "XL\n",
      "2XL\n"
     ]
    }
   ],
   "source": [
    "option = soup.select('.detail_options option')\n",
    "for i in option:\n",
    "    print(i['value'])"
   ]
  },
  {
   "cell_type": "code",
   "execution_count": 82,
   "metadata": {},
   "outputs": [
    {
     "name": "stdout",
     "output_type": "stream",
     "text": [
      "http://gi.esmplus.com/unisp123/images/0703_/BV3929-010.jpg\n"
     ]
    }
   ],
   "source": [
    "info_img = soup.select('#info_container_1 img')\n",
    "for i in info_img:\n",
    "    print(i['src'])"
   ]
  },
  {
   "cell_type": "code",
   "execution_count": 83,
   "metadata": {},
   "outputs": [
    {
     "name": "stdout",
     "output_type": "stream",
     "text": [
      "[]\n"
     ]
    }
   ],
   "source": [
    "info_text = [i for i in soup.select_one('#info_container_1').get_text().splitlines() if i]\n",
    "print(info_text)\n",
    "while '\\xa0' in info_text:\n",
    "    info_text.remove('\\xa0')\n",
    "for i in info_text:\n",
    "    print(i)"
   ]
  }
 ],
 "metadata": {
  "kernelspec": {
   "display_name": "Python 3",
   "language": "python",
   "name": "python3"
  },
  "language_info": {
   "codemirror_mode": {
    "name": "ipython",
    "version": 3
   },
   "file_extension": ".py",
   "mimetype": "text/x-python",
   "name": "python",
   "nbconvert_exporter": "python",
   "pygments_lexer": "ipython3",
   "version": "3.6.8"
  }
 },
 "nbformat": 4,
 "nbformat_minor": 2
}
